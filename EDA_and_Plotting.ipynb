{
 "cells": [
  {
   "cell_type": "code",
   "execution_count": 1,
   "id": "2e653621",
   "metadata": {},
   "outputs": [],
   "source": [
    "import pandas as pd\n",
    "import numpy as np\n",
    "import matplotlib.pyplot as plt\n",
    "import seaborn as sns\n",
    "%matplotlib inline"
   ]
  },
  {
   "cell_type": "code",
   "execution_count": 2,
   "id": "ecba388f",
   "metadata": {},
   "outputs": [],
   "source": [
    "df = pd.read_csv('falcon9_data_class.csv')"
   ]
  },
  {
   "cell_type": "code",
   "execution_count": 3,
   "id": "58308a50",
   "metadata": {},
   "outputs": [
    {
     "data": {
      "text/html": [
       "<div>\n",
       "<style scoped>\n",
       "    .dataframe tbody tr th:only-of-type {\n",
       "        vertical-align: middle;\n",
       "    }\n",
       "\n",
       "    .dataframe tbody tr th {\n",
       "        vertical-align: top;\n",
       "    }\n",
       "\n",
       "    .dataframe thead th {\n",
       "        text-align: right;\n",
       "    }\n",
       "</style>\n",
       "<table border=\"1\" class=\"dataframe\">\n",
       "  <thead>\n",
       "    <tr style=\"text-align: right;\">\n",
       "      <th></th>\n",
       "      <th>FlightNumber</th>\n",
       "      <th>Date</th>\n",
       "      <th>RocketName</th>\n",
       "      <th>Longitude</th>\n",
       "      <th>Latitude</th>\n",
       "      <th>LaunchSite</th>\n",
       "      <th>PayloadMass</th>\n",
       "      <th>Orbit</th>\n",
       "      <th>Block</th>\n",
       "      <th>SerialNumber</th>\n",
       "      <th>ReusedCount</th>\n",
       "      <th>LandingOutcome</th>\n",
       "      <th>Flights</th>\n",
       "      <th>GridFins</th>\n",
       "      <th>Reused</th>\n",
       "      <th>Legs</th>\n",
       "      <th>LandingPad</th>\n",
       "      <th>Class</th>\n",
       "    </tr>\n",
       "  </thead>\n",
       "  <tbody>\n",
       "    <tr>\n",
       "      <th>0</th>\n",
       "      <td>1</td>\n",
       "      <td>2010-06-04</td>\n",
       "      <td>Falcon 9</td>\n",
       "      <td>-80.577366</td>\n",
       "      <td>28.561857</td>\n",
       "      <td>CCSFS SLC 40</td>\n",
       "      <td>7341.2</td>\n",
       "      <td>LEO</td>\n",
       "      <td>1.0</td>\n",
       "      <td>B0003</td>\n",
       "      <td>0</td>\n",
       "      <td>None None</td>\n",
       "      <td>1</td>\n",
       "      <td>False</td>\n",
       "      <td>False</td>\n",
       "      <td>False</td>\n",
       "      <td>NaN</td>\n",
       "      <td>0</td>\n",
       "    </tr>\n",
       "    <tr>\n",
       "      <th>1</th>\n",
       "      <td>2</td>\n",
       "      <td>2012-05-22</td>\n",
       "      <td>Falcon 9</td>\n",
       "      <td>-80.577366</td>\n",
       "      <td>28.561857</td>\n",
       "      <td>CCSFS SLC 40</td>\n",
       "      <td>525.0</td>\n",
       "      <td>LEO</td>\n",
       "      <td>1.0</td>\n",
       "      <td>B0005</td>\n",
       "      <td>0</td>\n",
       "      <td>None None</td>\n",
       "      <td>1</td>\n",
       "      <td>False</td>\n",
       "      <td>False</td>\n",
       "      <td>False</td>\n",
       "      <td>NaN</td>\n",
       "      <td>0</td>\n",
       "    </tr>\n",
       "    <tr>\n",
       "      <th>2</th>\n",
       "      <td>3</td>\n",
       "      <td>2013-03-01</td>\n",
       "      <td>Falcon 9</td>\n",
       "      <td>-80.577366</td>\n",
       "      <td>28.561857</td>\n",
       "      <td>CCSFS SLC 40</td>\n",
       "      <td>677.0</td>\n",
       "      <td>ISS</td>\n",
       "      <td>1.0</td>\n",
       "      <td>B0007</td>\n",
       "      <td>0</td>\n",
       "      <td>None None</td>\n",
       "      <td>1</td>\n",
       "      <td>False</td>\n",
       "      <td>False</td>\n",
       "      <td>False</td>\n",
       "      <td>NaN</td>\n",
       "      <td>0</td>\n",
       "    </tr>\n",
       "    <tr>\n",
       "      <th>3</th>\n",
       "      <td>4</td>\n",
       "      <td>2013-09-29</td>\n",
       "      <td>Falcon 9</td>\n",
       "      <td>-120.610829</td>\n",
       "      <td>34.632093</td>\n",
       "      <td>VAFB SLC 4E</td>\n",
       "      <td>500.0</td>\n",
       "      <td>PO</td>\n",
       "      <td>1.0</td>\n",
       "      <td>B1003</td>\n",
       "      <td>0</td>\n",
       "      <td>False Ocean</td>\n",
       "      <td>1</td>\n",
       "      <td>False</td>\n",
       "      <td>False</td>\n",
       "      <td>False</td>\n",
       "      <td>NaN</td>\n",
       "      <td>0</td>\n",
       "    </tr>\n",
       "    <tr>\n",
       "      <th>4</th>\n",
       "      <td>5</td>\n",
       "      <td>2013-12-03</td>\n",
       "      <td>Falcon 9</td>\n",
       "      <td>-80.577366</td>\n",
       "      <td>28.561857</td>\n",
       "      <td>CCSFS SLC 40</td>\n",
       "      <td>3170.0</td>\n",
       "      <td>GTO</td>\n",
       "      <td>1.0</td>\n",
       "      <td>B1004</td>\n",
       "      <td>0</td>\n",
       "      <td>None None</td>\n",
       "      <td>1</td>\n",
       "      <td>False</td>\n",
       "      <td>False</td>\n",
       "      <td>False</td>\n",
       "      <td>NaN</td>\n",
       "      <td>0</td>\n",
       "    </tr>\n",
       "  </tbody>\n",
       "</table>\n",
       "</div>"
      ],
      "text/plain": [
       "   FlightNumber        Date RocketName   Longitude   Latitude    LaunchSite  \\\n",
       "0             1  2010-06-04   Falcon 9  -80.577366  28.561857  CCSFS SLC 40   \n",
       "1             2  2012-05-22   Falcon 9  -80.577366  28.561857  CCSFS SLC 40   \n",
       "2             3  2013-03-01   Falcon 9  -80.577366  28.561857  CCSFS SLC 40   \n",
       "3             4  2013-09-29   Falcon 9 -120.610829  34.632093   VAFB SLC 4E   \n",
       "4             5  2013-12-03   Falcon 9  -80.577366  28.561857  CCSFS SLC 40   \n",
       "\n",
       "   PayloadMass Orbit  Block SerialNumber  ReusedCount LandingOutcome  Flights  \\\n",
       "0       7341.2   LEO    1.0        B0003            0      None None        1   \n",
       "1        525.0   LEO    1.0        B0005            0      None None        1   \n",
       "2        677.0   ISS    1.0        B0007            0      None None        1   \n",
       "3        500.0    PO    1.0        B1003            0    False Ocean        1   \n",
       "4       3170.0   GTO    1.0        B1004            0      None None        1   \n",
       "\n",
       "   GridFins  Reused   Legs LandingPad  Class  \n",
       "0     False   False  False        NaN      0  \n",
       "1     False   False  False        NaN      0  \n",
       "2     False   False  False        NaN      0  \n",
       "3     False   False  False        NaN      0  \n",
       "4     False   False  False        NaN      0  "
      ]
     },
     "execution_count": 3,
     "metadata": {},
     "output_type": "execute_result"
    }
   ],
   "source": [
    "df.head()"
   ]
  },
  {
   "cell_type": "code",
   "execution_count": 4,
   "id": "cef8ba2e",
   "metadata": {},
   "outputs": [
    {
     "data": {
      "text/plain": [
       "FlightNumber       0\n",
       "Date               0\n",
       "RocketName         0\n",
       "Longitude          0\n",
       "Latitude           0\n",
       "LaunchSite         0\n",
       "PayloadMass        0\n",
       "Orbit              0\n",
       "Block              0\n",
       "SerialNumber       0\n",
       "ReusedCount        0\n",
       "LandingOutcome     0\n",
       "Flights            0\n",
       "GridFins           0\n",
       "Reused             0\n",
       "Legs               0\n",
       "LandingPad        26\n",
       "Class              0\n",
       "dtype: int64"
      ]
     },
     "execution_count": 4,
     "metadata": {},
     "output_type": "execute_result"
    }
   ],
   "source": [
    "df.isna().sum()"
   ]
  },
  {
   "cell_type": "code",
   "execution_count": 5,
   "id": "1c61a2da",
   "metadata": {},
   "outputs": [
    {
     "data": {
      "text/plain": [
       "LaunchSite\n",
       "CCSFS SLC 40    0.680556\n",
       "KSC LC 39A      0.848485\n",
       "VAFB SLC 4E     0.812500\n",
       "Name: Class, dtype: float64"
      ]
     },
     "execution_count": 5,
     "metadata": {},
     "output_type": "execute_result"
    }
   ],
   "source": [
    "df.groupby('LaunchSite')['Class'].mean()"
   ]
  },
  {
   "cell_type": "markdown",
   "id": "8f58338b",
   "metadata": {},
   "source": [
    "## Exploratory Data Analysis"
   ]
  },
  {
   "cell_type": "markdown",
   "id": "2077b38f",
   "metadata": {},
   "source": [
    "First, let's try to see how the `FlightNumber` (indicating the continuous launch attempts.) and `Payload` variables would affect the launch outcome."
   ]
  },
  {
   "cell_type": "code",
   "execution_count": 5,
   "id": "beee5710",
   "metadata": {},
   "outputs": [
    {
     "data": {
      "image/png": "[encoded data removed]",
      "text/plain": [
       "<Figure size 1842.38x360 with 1 Axes>"
      ]
     },
     "metadata": {
      "needs_background": "light"
     },
     "output_type": "display_data"
    },
    {
     "data": {
      "text/plain": [
       "<Figure size 1080x720 with 0 Axes>"
      ]
     },
     "metadata": {},
     "output_type": "display_data"
    }
   ],
   "source": [
    "sns.catplot(y=\"PayloadMass\", x=\"FlightNumber\", hue=\"Class\", data=df, aspect = 5)\n",
    "plt.xlabel(\"Flight Number\",fontsize=20)\n",
    "plt.ylabel(\"Pay load Mass (kg)\",fontsize=20)\n",
    "plt.figure(figsize=(15,10))\n",
    "plt.show()"
   ]
  },
  {
   "cell_type": "markdown",
   "id": "cdcc2e6c",
   "metadata": {},
   "source": [
    "Looking at the relationship between FlightNumber and LaunchSite and how the landing outcome was"
   ]
  },
  {
   "cell_type": "code",
   "execution_count": 6,
   "id": "2b86d250",
   "metadata": {},
   "outputs": [
    {
     "data": {
      "text/plain": [
       "<Figure size 1800x720 with 0 Axes>"
      ]
     },
     "execution_count": 6,
     "metadata": {},
     "output_type": "execute_result"
    },
    {
     "data": {
      "image/png": "[encoded data removed]",
      "text/plain": [
       "<Figure size 1842.38x360 with 1 Axes>"
      ]
     },
     "metadata": {
      "needs_background": "light"
     },
     "output_type": "display_data"
    },
    {
     "data": {
      "text/plain": [
       "<Figure size 1800x720 with 0 Axes>"
      ]
     },
     "metadata": {},
     "output_type": "display_data"
    }
   ],
   "source": [
    "sns.catplot(x='FlightNumber', y='LaunchSite', data=df, aspect = 5, hue='Class')\n",
    "plt.figure(figsize=(25,10))"
   ]
  },
  {
   "cell_type": "markdown",
   "id": "af32891d",
   "metadata": {},
   "source": [
    "Majority of the rockets' first stage landed successfully with PayloadMass under 8000 kg"
   ]
  },
  {
   "cell_type": "code",
   "execution_count": 10,
   "id": "6c9b44b5",
   "metadata": {},
   "outputs": [
    {
     "data": {
      "text/plain": [
       "<Figure size 1440x1080 with 0 Axes>"
      ]
     },
     "execution_count": 10,
     "metadata": {},
     "output_type": "execute_result"
    },
    {
     "data": {
      "image/png": "[encoded data removed]",
      "text/plain": [
       "<Figure size 690.375x216 with 1 Axes>"
      ]
     },
     "metadata": {
      "needs_background": "light"
     },
     "output_type": "display_data"
    },
    {
     "data": {
      "text/plain": [
       "<Figure size 1440x1080 with 0 Axes>"
      ]
     },
     "metadata": {},
     "output_type": "display_data"
    }
   ],
   "source": [
    "\n",
    "\n",
    "sns.catplot(x='PayloadMass', y='LaunchSite', data=df, hue='Class', aspect = 3, height=3)\n",
    "plt.figure(figsize=(20,15))"
   ]
  },
  {
   "cell_type": "code",
   "execution_count": 9,
   "id": "52c920d3",
   "metadata": {},
   "outputs": [
    {
     "data": {
      "text/plain": [
       "LaunchSite\n",
       "CCSFS SLC 40    7116.993750\n",
       "KSC LC 39A      8521.157576\n",
       "VAFB SLC 4E     5916.437500\n",
       "Name: PayloadMass, dtype: float64"
      ]
     },
     "execution_count": 9,
     "metadata": {},
     "output_type": "execute_result"
    }
   ],
   "source": [
    "df.groupby('LaunchSite')['PayloadMass'].mean()"
   ]
  },
  {
   "cell_type": "raw",
   "id": "47126035",
   "metadata": {},
   "source": []
  },
  {
   "cell_type": "markdown",
   "id": "d39af0ca",
   "metadata": {},
   "source": [
    "Success rate of the first stage landing per orbit."
   ]
  },
  {
   "cell_type": "code",
   "execution_count": 9,
   "id": "84025d6e",
   "metadata": {},
   "outputs": [
    {
     "data": {
      "text/plain": [
       "<AxesSubplot:xlabel='Orbit'>"
      ]
     },
     "execution_count": 9,
     "metadata": {},
     "output_type": "execute_result"
    },
    {
     "data": {
      "image/png": "[encoded data removed]",
      "text/plain": [
       "<Figure size 432x288 with 1 Axes>"
      ]
     },
     "metadata": {
      "needs_background": "light"
     },
     "output_type": "display_data"
    }
   ],
   "source": [
    "df.groupby('Orbit')['Class'].mean().plot(kind='bar')"
   ]
  },
  {
   "cell_type": "markdown",
   "id": "466eb8e7",
   "metadata": {},
   "source": [
    "Relationship of FlightNumber and Orbit"
   ]
  },
  {
   "cell_type": "code",
   "execution_count": 10,
   "id": "54fd46cf",
   "metadata": {},
   "outputs": [
    {
     "data": {
      "text/plain": [
       "<AxesSubplot:xlabel='FlightNumber', ylabel='Orbit'>"
      ]
     },
     "execution_count": 10,
     "metadata": {},
     "output_type": "execute_result"
    },
    {
     "data": {
      "image/png": "[encoded data removed]",
      "text/plain": [
       "<Figure size 432x288 with 1 Axes>"
      ]
     },
     "metadata": {
      "needs_background": "light"
     },
     "output_type": "display_data"
    }
   ],
   "source": [
    "sns.scatterplot(x='FlightNumber', y='Orbit', data=df, hue='Class')"
   ]
  },
  {
   "cell_type": "markdown",
   "id": "d7db6a60",
   "metadata": {},
   "source": [
    "Relationship between Payload Mass and Orbit and how that affects the success of the first stage landing"
   ]
  },
  {
   "cell_type": "code",
   "execution_count": 11,
   "id": "86aed529",
   "metadata": {},
   "outputs": [
    {
     "data": {
      "text/plain": [
       "<AxesSubplot:xlabel='PayloadMass', ylabel='Orbit'>"
      ]
     },
     "execution_count": 11,
     "metadata": {},
     "output_type": "execute_result"
    },
    {
     "data": {
      "image/png": "[encoded data removed]",
      "text/plain": [
       "<Figure size 432x288 with 1 Axes>"
      ]
     },
     "metadata": {
      "needs_background": "light"
     },
     "output_type": "display_data"
    }
   ],
   "source": [
    "sns.scatterplot(x='PayloadMass', y='Orbit', data=df, hue='Class')"
   ]
  },
  {
   "cell_type": "markdown",
   "id": "8a59d1e5",
   "metadata": {},
   "source": [
    "Convert date column to a datetime object"
   ]
  },
  {
   "cell_type": "code",
   "execution_count": 12,
   "id": "2bae8b87",
   "metadata": {},
   "outputs": [],
   "source": [
    "df['Date'] = pd.to_datetime(df['Date'])"
   ]
  },
  {
   "cell_type": "markdown",
   "id": "1f4cf047",
   "metadata": {},
   "source": [
    "Extract the year from the Date column to use in visualizations"
   ]
  },
  {
   "cell_type": "code",
   "execution_count": 13,
   "id": "86cf6c12",
   "metadata": {},
   "outputs": [],
   "source": [
    "year=[]\n",
    "def extractYear(data):\n",
    "    for i in df['Date']:\n",
    "        year.append(i.year)\n",
    "    return year"
   ]
  },
  {
   "cell_type": "code",
   "execution_count": 14,
   "id": "78eaeab5",
   "metadata": {},
   "outputs": [],
   "source": [
    "df['Year'] = extractYear(df)"
   ]
  },
  {
   "cell_type": "code",
   "execution_count": 15,
   "id": "1bc0c277",
   "metadata": {},
   "outputs": [
    {
     "data": {
      "text/plain": [
       "Text(0, 0.5, 'Success Rate')"
      ]
     },
     "execution_count": 15,
     "metadata": {},
     "output_type": "execute_result"
    },
    {
     "data": {
      "image/png": "[encoded data removed]",
      "text/plain": [
       "<Figure size 432x288 with 1 Axes>"
      ]
     },
     "metadata": {
      "needs_background": "light"
     },
     "output_type": "display_data"
    }
   ],
   "source": [
    "df.groupby('Year')['Class'].mean().plot(kind='line')\n",
    "plt.ylabel('Success Rate')"
   ]
  },
  {
   "cell_type": "code",
   "execution_count": 16,
   "id": "f8dd7c38",
   "metadata": {},
   "outputs": [
    {
     "data": {
      "text/html": [
       "<div>\n",
       "<style scoped>\n",
       "    .dataframe tbody tr th:only-of-type {\n",
       "        vertical-align: middle;\n",
       "    }\n",
       "\n",
       "    .dataframe tbody tr th {\n",
       "        vertical-align: top;\n",
       "    }\n",
       "\n",
       "    .dataframe thead th {\n",
       "        text-align: right;\n",
       "    }\n",
       "</style>\n",
       "<table border=\"1\" class=\"dataframe\">\n",
       "  <thead>\n",
       "    <tr style=\"text-align: right;\">\n",
       "      <th></th>\n",
       "      <th>FlightNumber</th>\n",
       "      <th>Longitude</th>\n",
       "      <th>Latitude</th>\n",
       "      <th>PayloadMass</th>\n",
       "      <th>Block</th>\n",
       "      <th>ReusedCount</th>\n",
       "      <th>Flights</th>\n",
       "      <th>GridFins</th>\n",
       "      <th>Reused</th>\n",
       "      <th>Legs</th>\n",
       "      <th>Class</th>\n",
       "      <th>Year</th>\n",
       "    </tr>\n",
       "  </thead>\n",
       "  <tbody>\n",
       "    <tr>\n",
       "      <th>FlightNumber</th>\n",
       "      <td>1.000000</td>\n",
       "      <td>0.071531</td>\n",
       "      <td>-0.070291</td>\n",
       "      <td>0.581178</td>\n",
       "      <td>0.863198</td>\n",
       "      <td>0.701505</td>\n",
       "      <td>0.688028</td>\n",
       "      <td>0.470174</td>\n",
       "      <td>0.683773</td>\n",
       "      <td>0.422480</td>\n",
       "      <td>0.470138</td>\n",
       "      <td>0.951862</td>\n",
       "    </tr>\n",
       "    <tr>\n",
       "      <th>Longitude</th>\n",
       "      <td>0.071531</td>\n",
       "      <td>1.000000</td>\n",
       "      <td>-0.999960</td>\n",
       "      <td>0.106180</td>\n",
       "      <td>0.002235</td>\n",
       "      <td>0.060080</td>\n",
       "      <td>0.106038</td>\n",
       "      <td>-0.108111</td>\n",
       "      <td>0.029080</td>\n",
       "      <td>-0.034420</td>\n",
       "      <td>-0.061573</td>\n",
       "      <td>0.061399</td>\n",
       "    </tr>\n",
       "    <tr>\n",
       "      <th>Latitude</th>\n",
       "      <td>-0.070291</td>\n",
       "      <td>-0.999960</td>\n",
       "      <td>1.000000</td>\n",
       "      <td>-0.105143</td>\n",
       "      <td>-0.000580</td>\n",
       "      <td>-0.059660</td>\n",
       "      <td>-0.105870</td>\n",
       "      <td>0.109007</td>\n",
       "      <td>-0.028709</td>\n",
       "      <td>0.035046</td>\n",
       "      <td>0.063049</td>\n",
       "      <td>-0.059735</td>\n",
       "    </tr>\n",
       "    <tr>\n",
       "      <th>PayloadMass</th>\n",
       "      <td>0.581178</td>\n",
       "      <td>0.106180</td>\n",
       "      <td>-0.105143</td>\n",
       "      <td>1.000000</td>\n",
       "      <td>0.524360</td>\n",
       "      <td>0.687427</td>\n",
       "      <td>0.683032</td>\n",
       "      <td>0.286231</td>\n",
       "      <td>0.533877</td>\n",
       "      <td>0.234365</td>\n",
       "      <td>0.237929</td>\n",
       "      <td>0.586093</td>\n",
       "    </tr>\n",
       "    <tr>\n",
       "      <th>Block</th>\n",
       "      <td>0.863198</td>\n",
       "      <td>0.002235</td>\n",
       "      <td>-0.000580</td>\n",
       "      <td>0.524360</td>\n",
       "      <td>1.000000</td>\n",
       "      <td>0.678774</td>\n",
       "      <td>0.488566</td>\n",
       "      <td>0.494136</td>\n",
       "      <td>0.606705</td>\n",
       "      <td>0.431334</td>\n",
       "      <td>0.479460</td>\n",
       "      <td>0.905175</td>\n",
       "    </tr>\n",
       "    <tr>\n",
       "      <th>ReusedCount</th>\n",
       "      <td>0.701505</td>\n",
       "      <td>0.060080</td>\n",
       "      <td>-0.059660</td>\n",
       "      <td>0.687427</td>\n",
       "      <td>0.678774</td>\n",
       "      <td>1.000000</td>\n",
       "      <td>0.724717</td>\n",
       "      <td>0.406620</td>\n",
       "      <td>0.594392</td>\n",
       "      <td>0.385585</td>\n",
       "      <td>0.481191</td>\n",
       "      <td>0.706071</td>\n",
       "    </tr>\n",
       "    <tr>\n",
       "      <th>Flights</th>\n",
       "      <td>0.688028</td>\n",
       "      <td>0.106038</td>\n",
       "      <td>-0.105870</td>\n",
       "      <td>0.683032</td>\n",
       "      <td>0.488566</td>\n",
       "      <td>0.724717</td>\n",
       "      <td>1.000000</td>\n",
       "      <td>0.253777</td>\n",
       "      <td>0.665494</td>\n",
       "      <td>0.233284</td>\n",
       "      <td>0.254167</td>\n",
       "      <td>0.623244</td>\n",
       "    </tr>\n",
       "    <tr>\n",
       "      <th>GridFins</th>\n",
       "      <td>0.470174</td>\n",
       "      <td>-0.108111</td>\n",
       "      <td>0.109007</td>\n",
       "      <td>0.286231</td>\n",
       "      <td>0.494136</td>\n",
       "      <td>0.406620</td>\n",
       "      <td>0.253777</td>\n",
       "      <td>1.000000</td>\n",
       "      <td>0.300929</td>\n",
       "      <td>0.908735</td>\n",
       "      <td>0.656281</td>\n",
       "      <td>0.562602</td>\n",
       "    </tr>\n",
       "    <tr>\n",
       "      <th>Reused</th>\n",
       "      <td>0.683773</td>\n",
       "      <td>0.029080</td>\n",
       "      <td>-0.028709</td>\n",
       "      <td>0.533877</td>\n",
       "      <td>0.606705</td>\n",
       "      <td>0.594392</td>\n",
       "      <td>0.665494</td>\n",
       "      <td>0.300929</td>\n",
       "      <td>1.000000</td>\n",
       "      <td>0.237199</td>\n",
       "      <td>0.290575</td>\n",
       "      <td>0.674336</td>\n",
       "    </tr>\n",
       "    <tr>\n",
       "      <th>Legs</th>\n",
       "      <td>0.422480</td>\n",
       "      <td>-0.034420</td>\n",
       "      <td>0.035046</td>\n",
       "      <td>0.234365</td>\n",
       "      <td>0.431334</td>\n",
       "      <td>0.385585</td>\n",
       "      <td>0.233284</td>\n",
       "      <td>0.908735</td>\n",
       "      <td>0.237199</td>\n",
       "      <td>1.000000</td>\n",
       "      <td>0.683353</td>\n",
       "      <td>0.506194</td>\n",
       "    </tr>\n",
       "    <tr>\n",
       "      <th>Class</th>\n",
       "      <td>0.470138</td>\n",
       "      <td>-0.061573</td>\n",
       "      <td>0.063049</td>\n",
       "      <td>0.237929</td>\n",
       "      <td>0.479460</td>\n",
       "      <td>0.481191</td>\n",
       "      <td>0.254167</td>\n",
       "      <td>0.656281</td>\n",
       "      <td>0.290575</td>\n",
       "      <td>0.683353</td>\n",
       "      <td>1.000000</td>\n",
       "      <td>0.500784</td>\n",
       "    </tr>\n",
       "    <tr>\n",
       "      <th>Year</th>\n",
       "      <td>0.951862</td>\n",
       "      <td>0.061399</td>\n",
       "      <td>-0.059735</td>\n",
       "      <td>0.586093</td>\n",
       "      <td>0.905175</td>\n",
       "      <td>0.706071</td>\n",
       "      <td>0.623244</td>\n",
       "      <td>0.562602</td>\n",
       "      <td>0.674336</td>\n",
       "      <td>0.506194</td>\n",
       "      <td>0.500784</td>\n",
       "      <td>1.000000</td>\n",
       "    </tr>\n",
       "  </tbody>\n",
       "</table>\n",
       "</div>"
      ],
      "text/plain": [
       "              FlightNumber  Longitude  Latitude  PayloadMass     Block  \\\n",
       "FlightNumber      1.000000   0.071531 -0.070291     0.581178  0.863198   \n",
       "Longitude         0.071531   1.000000 -0.999960     0.106180  0.002235   \n",
       "Latitude         -0.070291  -0.999960  1.000000    -0.105143 -0.000580   \n",
       "PayloadMass       0.581178   0.106180 -0.105143     1.000000  0.524360   \n",
       "Block             0.863198   0.002235 -0.000580     0.524360  1.000000   \n",
       "ReusedCount       0.701505   0.060080 -0.059660     0.687427  0.678774   \n",
       "Flights           0.688028   0.106038 -0.105870     0.683032  0.488566   \n",
       "GridFins          0.470174  -0.108111  0.109007     0.286231  0.494136   \n",
       "Reused            0.683773   0.029080 -0.028709     0.533877  0.606705   \n",
       "Legs              0.422480  -0.034420  0.035046     0.234365  0.431334   \n",
       "Class             0.470138  -0.061573  0.063049     0.237929  0.479460   \n",
       "Year              0.951862   0.061399 -0.059735     0.586093  0.905175   \n",
       "\n",
       "              ReusedCount   Flights  GridFins    Reused      Legs     Class  \\\n",
       "FlightNumber     0.701505  0.688028  0.470174  0.683773  0.422480  0.470138   \n",
       "Longitude        0.060080  0.106038 -0.108111  0.029080 -0.034420 -0.061573   \n",
       "Latitude        -0.059660 -0.105870  0.109007 -0.028709  0.035046  0.063049   \n",
       "PayloadMass      0.687427  0.683032  0.286231  0.533877  0.234365  0.237929   \n",
       "Block            0.678774  0.488566  0.494136  0.606705  0.431334  0.479460   \n",
       "ReusedCount      1.000000  0.724717  0.406620  0.594392  0.385585  0.481191   \n",
       "Flights          0.724717  1.000000  0.253777  0.665494  0.233284  0.254167   \n",
       "GridFins         0.406620  0.253777  1.000000  0.300929  0.908735  0.656281   \n",
       "Reused           0.594392  0.665494  0.300929  1.000000  0.237199  0.290575   \n",
       "Legs             0.385585  0.233284  0.908735  0.237199  1.000000  0.683353   \n",
       "Class            0.481191  0.254167  0.656281  0.290575  0.683353  1.000000   \n",
       "Year             0.706071  0.623244  0.562602  0.674336  0.506194  0.500784   \n",
       "\n",
       "                  Year  \n",
       "FlightNumber  0.951862  \n",
       "Longitude     0.061399  \n",
       "Latitude     -0.059735  \n",
       "PayloadMass   0.586093  \n",
       "Block         0.905175  \n",
       "ReusedCount   0.706071  \n",
       "Flights       0.623244  \n",
       "GridFins      0.562602  \n",
       "Reused        0.674336  \n",
       "Legs          0.506194  \n",
       "Class         0.500784  \n",
       "Year          1.000000  "
      ]
     },
     "execution_count": 16,
     "metadata": {},
     "output_type": "execute_result"
    }
   ],
   "source": [
    "df.corr()"
   ]
  },
  {
   "cell_type": "code",
   "execution_count": 41,
   "id": "02f710cc",
   "metadata": {},
   "outputs": [
    {
     "data": {
      "text/html": [
       "<div>\n",
       "<style scoped>\n",
       "    .dataframe tbody tr th:only-of-type {\n",
       "        vertical-align: middle;\n",
       "    }\n",
       "\n",
       "    .dataframe tbody tr th {\n",
       "        vertical-align: top;\n",
       "    }\n",
       "\n",
       "    .dataframe thead th {\n",
       "        text-align: right;\n",
       "    }\n",
       "</style>\n",
       "<table border=\"1\" class=\"dataframe\">\n",
       "  <thead>\n",
       "    <tr style=\"text-align: right;\">\n",
       "      <th></th>\n",
       "      <th>FlightNumber</th>\n",
       "      <th>Date</th>\n",
       "      <th>RocketName</th>\n",
       "      <th>Longitude</th>\n",
       "      <th>Latitude</th>\n",
       "      <th>LaunchSite</th>\n",
       "      <th>PayloadMass</th>\n",
       "      <th>Orbit</th>\n",
       "      <th>Block</th>\n",
       "      <th>SerialNumber</th>\n",
       "      <th>ReusedCount</th>\n",
       "      <th>LandingOutcome</th>\n",
       "      <th>Flights</th>\n",
       "      <th>GridFins</th>\n",
       "      <th>Reused</th>\n",
       "      <th>Legs</th>\n",
       "      <th>LandingPad</th>\n",
       "      <th>Class</th>\n",
       "      <th>Year</th>\n",
       "    </tr>\n",
       "  </thead>\n",
       "  <tbody>\n",
       "    <tr>\n",
       "      <th>0</th>\n",
       "      <td>1</td>\n",
       "      <td>2010-06-04</td>\n",
       "      <td>Falcon 9</td>\n",
       "      <td>-80.577366</td>\n",
       "      <td>28.561857</td>\n",
       "      <td>CCSFS SLC 40</td>\n",
       "      <td>7341.2</td>\n",
       "      <td>LEO</td>\n",
       "      <td>1.0</td>\n",
       "      <td>B0003</td>\n",
       "      <td>0</td>\n",
       "      <td>None None</td>\n",
       "      <td>1</td>\n",
       "      <td>False</td>\n",
       "      <td>False</td>\n",
       "      <td>False</td>\n",
       "      <td>NaN</td>\n",
       "      <td>0</td>\n",
       "      <td>2010</td>\n",
       "    </tr>\n",
       "    <tr>\n",
       "      <th>1</th>\n",
       "      <td>2</td>\n",
       "      <td>2012-05-22</td>\n",
       "      <td>Falcon 9</td>\n",
       "      <td>-80.577366</td>\n",
       "      <td>28.561857</td>\n",
       "      <td>CCSFS SLC 40</td>\n",
       "      <td>525.0</td>\n",
       "      <td>LEO</td>\n",
       "      <td>1.0</td>\n",
       "      <td>B0005</td>\n",
       "      <td>0</td>\n",
       "      <td>None None</td>\n",
       "      <td>1</td>\n",
       "      <td>False</td>\n",
       "      <td>False</td>\n",
       "      <td>False</td>\n",
       "      <td>NaN</td>\n",
       "      <td>0</td>\n",
       "      <td>2012</td>\n",
       "    </tr>\n",
       "    <tr>\n",
       "      <th>2</th>\n",
       "      <td>3</td>\n",
       "      <td>2013-03-01</td>\n",
       "      <td>Falcon 9</td>\n",
       "      <td>-80.577366</td>\n",
       "      <td>28.561857</td>\n",
       "      <td>CCSFS SLC 40</td>\n",
       "      <td>677.0</td>\n",
       "      <td>ISS</td>\n",
       "      <td>1.0</td>\n",
       "      <td>B0007</td>\n",
       "      <td>0</td>\n",
       "      <td>None None</td>\n",
       "      <td>1</td>\n",
       "      <td>False</td>\n",
       "      <td>False</td>\n",
       "      <td>False</td>\n",
       "      <td>NaN</td>\n",
       "      <td>0</td>\n",
       "      <td>2013</td>\n",
       "    </tr>\n",
       "    <tr>\n",
       "      <th>3</th>\n",
       "      <td>4</td>\n",
       "      <td>2013-09-29</td>\n",
       "      <td>Falcon 9</td>\n",
       "      <td>-120.610829</td>\n",
       "      <td>34.632093</td>\n",
       "      <td>VAFB SLC 4E</td>\n",
       "      <td>500.0</td>\n",
       "      <td>PO</td>\n",
       "      <td>1.0</td>\n",
       "      <td>B1003</td>\n",
       "      <td>0</td>\n",
       "      <td>False Ocean</td>\n",
       "      <td>1</td>\n",
       "      <td>False</td>\n",
       "      <td>False</td>\n",
       "      <td>False</td>\n",
       "      <td>NaN</td>\n",
       "      <td>0</td>\n",
       "      <td>2013</td>\n",
       "    </tr>\n",
       "    <tr>\n",
       "      <th>4</th>\n",
       "      <td>5</td>\n",
       "      <td>2013-12-03</td>\n",
       "      <td>Falcon 9</td>\n",
       "      <td>-80.577366</td>\n",
       "      <td>28.561857</td>\n",
       "      <td>CCSFS SLC 40</td>\n",
       "      <td>3170.0</td>\n",
       "      <td>GTO</td>\n",
       "      <td>1.0</td>\n",
       "      <td>B1004</td>\n",
       "      <td>0</td>\n",
       "      <td>None None</td>\n",
       "      <td>1</td>\n",
       "      <td>False</td>\n",
       "      <td>False</td>\n",
       "      <td>False</td>\n",
       "      <td>NaN</td>\n",
       "      <td>0</td>\n",
       "      <td>2013</td>\n",
       "    </tr>\n",
       "  </tbody>\n",
       "</table>\n",
       "</div>"
      ],
      "text/plain": [
       "   FlightNumber       Date RocketName   Longitude   Latitude    LaunchSite  \\\n",
       "0             1 2010-06-04   Falcon 9  -80.577366  28.561857  CCSFS SLC 40   \n",
       "1             2 2012-05-22   Falcon 9  -80.577366  28.561857  CCSFS SLC 40   \n",
       "2             3 2013-03-01   Falcon 9  -80.577366  28.561857  CCSFS SLC 40   \n",
       "3             4 2013-09-29   Falcon 9 -120.610829  34.632093   VAFB SLC 4E   \n",
       "4             5 2013-12-03   Falcon 9  -80.577366  28.561857  CCSFS SLC 40   \n",
       "\n",
       "   PayloadMass Orbit  Block SerialNumber  ReusedCount LandingOutcome  Flights  \\\n",
       "0       7341.2   LEO    1.0        B0003            0      None None        1   \n",
       "1        525.0   LEO    1.0        B0005            0      None None        1   \n",
       "2        677.0   ISS    1.0        B0007            0      None None        1   \n",
       "3        500.0    PO    1.0        B1003            0    False Ocean        1   \n",
       "4       3170.0   GTO    1.0        B1004            0      None None        1   \n",
       "\n",
       "   GridFins  Reused   Legs LandingPad  Class  Year  \n",
       "0     False   False  False        NaN      0  2010  \n",
       "1     False   False  False        NaN      0  2012  \n",
       "2     False   False  False        NaN      0  2013  \n",
       "3     False   False  False        NaN      0  2013  \n",
       "4     False   False  False        NaN      0  2013  "
      ]
     },
     "execution_count": 41,
     "metadata": {},
     "output_type": "execute_result"
    }
   ],
   "source": [
    "df.head()"
   ]
  },
  {
   "cell_type": "markdown",
   "id": "670abdda",
   "metadata": {},
   "source": [
    "### Feature Engineering"
   ]
  },
  {
   "cell_type": "markdown",
   "id": "1f34b848",
   "metadata": {},
   "source": [
    "Selecting all the important features towards determining success of landing"
   ]
  },
  {
   "cell_type": "code",
   "execution_count": 78,
   "id": "6a2d2eff",
   "metadata": {},
   "outputs": [
    {
     "data": {
      "text/html": [
       "<div>\n",
       "<style scoped>\n",
       "    .dataframe tbody tr th:only-of-type {\n",
       "        vertical-align: middle;\n",
       "    }\n",
       "\n",
       "    .dataframe tbody tr th {\n",
       "        vertical-align: top;\n",
       "    }\n",
       "\n",
       "    .dataframe thead th {\n",
       "        text-align: right;\n",
       "    }\n",
       "</style>\n",
       "<table border=\"1\" class=\"dataframe\">\n",
       "  <thead>\n",
       "    <tr style=\"text-align: right;\">\n",
       "      <th></th>\n",
       "      <th>FlightNumber</th>\n",
       "      <th>PayloadMass</th>\n",
       "      <th>Orbit</th>\n",
       "      <th>LaunchSite</th>\n",
       "      <th>Flights</th>\n",
       "      <th>GridFins</th>\n",
       "      <th>Reused</th>\n",
       "      <th>Legs</th>\n",
       "      <th>LandingPad</th>\n",
       "      <th>Block</th>\n",
       "      <th>ReusedCount</th>\n",
       "      <th>SerialNumber</th>\n",
       "    </tr>\n",
       "  </thead>\n",
       "  <tbody>\n",
       "    <tr>\n",
       "      <th>0</th>\n",
       "      <td>1</td>\n",
       "      <td>7341.2</td>\n",
       "      <td>LEO</td>\n",
       "      <td>CCSFS SLC 40</td>\n",
       "      <td>1</td>\n",
       "      <td>False</td>\n",
       "      <td>False</td>\n",
       "      <td>False</td>\n",
       "      <td>NaN</td>\n",
       "      <td>1.0</td>\n",
       "      <td>0</td>\n",
       "      <td>B0003</td>\n",
       "    </tr>\n",
       "    <tr>\n",
       "      <th>1</th>\n",
       "      <td>2</td>\n",
       "      <td>525.0</td>\n",
       "      <td>LEO</td>\n",
       "      <td>CCSFS SLC 40</td>\n",
       "      <td>1</td>\n",
       "      <td>False</td>\n",
       "      <td>False</td>\n",
       "      <td>False</td>\n",
       "      <td>NaN</td>\n",
       "      <td>1.0</td>\n",
       "      <td>0</td>\n",
       "      <td>B0005</td>\n",
       "    </tr>\n",
       "    <tr>\n",
       "      <th>2</th>\n",
       "      <td>3</td>\n",
       "      <td>677.0</td>\n",
       "      <td>ISS</td>\n",
       "      <td>CCSFS SLC 40</td>\n",
       "      <td>1</td>\n",
       "      <td>False</td>\n",
       "      <td>False</td>\n",
       "      <td>False</td>\n",
       "      <td>NaN</td>\n",
       "      <td>1.0</td>\n",
       "      <td>0</td>\n",
       "      <td>B0007</td>\n",
       "    </tr>\n",
       "    <tr>\n",
       "      <th>3</th>\n",
       "      <td>4</td>\n",
       "      <td>500.0</td>\n",
       "      <td>PO</td>\n",
       "      <td>VAFB SLC 4E</td>\n",
       "      <td>1</td>\n",
       "      <td>False</td>\n",
       "      <td>False</td>\n",
       "      <td>False</td>\n",
       "      <td>NaN</td>\n",
       "      <td>1.0</td>\n",
       "      <td>0</td>\n",
       "      <td>B1003</td>\n",
       "    </tr>\n",
       "    <tr>\n",
       "      <th>4</th>\n",
       "      <td>5</td>\n",
       "      <td>3170.0</td>\n",
       "      <td>GTO</td>\n",
       "      <td>CCSFS SLC 40</td>\n",
       "      <td>1</td>\n",
       "      <td>False</td>\n",
       "      <td>False</td>\n",
       "      <td>False</td>\n",
       "      <td>NaN</td>\n",
       "      <td>1.0</td>\n",
       "      <td>0</td>\n",
       "      <td>B1004</td>\n",
       "    </tr>\n",
       "  </tbody>\n",
       "</table>\n",
       "</div>"
      ],
      "text/plain": [
       "   FlightNumber  PayloadMass Orbit    LaunchSite  Flights  GridFins  Reused  \\\n",
       "0             1       7341.2   LEO  CCSFS SLC 40        1     False   False   \n",
       "1             2        525.0   LEO  CCSFS SLC 40        1     False   False   \n",
       "2             3        677.0   ISS  CCSFS SLC 40        1     False   False   \n",
       "3             4        500.0    PO   VAFB SLC 4E        1     False   False   \n",
       "4             5       3170.0   GTO  CCSFS SLC 40        1     False   False   \n",
       "\n",
       "    Legs LandingPad  Block  ReusedCount SerialNumber  \n",
       "0  False        NaN    1.0            0        B0003  \n",
       "1  False        NaN    1.0            0        B0005  \n",
       "2  False        NaN    1.0            0        B0007  \n",
       "3  False        NaN    1.0            0        B1003  \n",
       "4  False        NaN    1.0            0        B1004  "
      ]
     },
     "execution_count": 78,
     "metadata": {},
     "output_type": "execute_result"
    }
   ],
   "source": [
    "features = df[['FlightNumber', 'PayloadMass', 'Orbit', 'LaunchSite', 'Flights', 'GridFins', 'Reused', 'Legs', 'LandingPad', 'Block', 'ReusedCount', 'SerialNumber']]\n",
    "features.head()"
   ]
  },
  {
   "cell_type": "markdown",
   "id": "d7d5fcf7",
   "metadata": {},
   "source": [
    "Turning the columns with boolean values to binary"
   ]
  },
  {
   "cell_type": "code",
   "execution_count": 79,
   "id": "6002dc48",
   "metadata": {},
   "outputs": [
    {
     "name": "stderr",
     "output_type": "stream",
     "text": [
      "C:\\Users\\shami\\.conda\\envs\\JunoDataAnalytics\\lib\\site-packages\\pandas\\core\\frame.py:3641: SettingWithCopyWarning: \n",
      "A value is trying to be set on a copy of a slice from a DataFrame.\n",
      "Try using .loc[row_indexer,col_indexer] = value instead\n",
      "\n",
      "See the caveats in the documentation: https://pandas.pydata.org/pandas-docs/stable/user_guide/indexing.html#returning-a-view-versus-a-copy\n",
      "  self[k1] = value[k2]\n"
     ]
    }
   ],
   "source": [
    "features[['GridFins', 'Reused', 'Legs']]= features[['GridFins', 'Reused', 'Legs']].astype(int)"
   ]
  },
  {
   "cell_type": "code",
   "execution_count": 80,
   "id": "0ff9ecca",
   "metadata": {},
   "outputs": [
    {
     "data": {
      "text/html": [
       "<div>\n",
       "<style scoped>\n",
       "    .dataframe tbody tr th:only-of-type {\n",
       "        vertical-align: middle;\n",
       "    }\n",
       "\n",
       "    .dataframe tbody tr th {\n",
       "        vertical-align: top;\n",
       "    }\n",
       "\n",
       "    .dataframe thead th {\n",
       "        text-align: right;\n",
       "    }\n",
       "</style>\n",
       "<table border=\"1\" class=\"dataframe\">\n",
       "  <thead>\n",
       "    <tr style=\"text-align: right;\">\n",
       "      <th></th>\n",
       "      <th>FlightNumber</th>\n",
       "      <th>PayloadMass</th>\n",
       "      <th>Orbit</th>\n",
       "      <th>LaunchSite</th>\n",
       "      <th>Flights</th>\n",
       "      <th>GridFins</th>\n",
       "      <th>Reused</th>\n",
       "      <th>Legs</th>\n",
       "      <th>LandingPad</th>\n",
       "      <th>Block</th>\n",
       "      <th>ReusedCount</th>\n",
       "      <th>SerialNumber</th>\n",
       "    </tr>\n",
       "  </thead>\n",
       "  <tbody>\n",
       "    <tr>\n",
       "      <th>0</th>\n",
       "      <td>1</td>\n",
       "      <td>7341.2</td>\n",
       "      <td>LEO</td>\n",
       "      <td>CCSFS SLC 40</td>\n",
       "      <td>1</td>\n",
       "      <td>0</td>\n",
       "      <td>0</td>\n",
       "      <td>0</td>\n",
       "      <td>NaN</td>\n",
       "      <td>1.0</td>\n",
       "      <td>0</td>\n",
       "      <td>B0003</td>\n",
       "    </tr>\n",
       "    <tr>\n",
       "      <th>1</th>\n",
       "      <td>2</td>\n",
       "      <td>525.0</td>\n",
       "      <td>LEO</td>\n",
       "      <td>CCSFS SLC 40</td>\n",
       "      <td>1</td>\n",
       "      <td>0</td>\n",
       "      <td>0</td>\n",
       "      <td>0</td>\n",
       "      <td>NaN</td>\n",
       "      <td>1.0</td>\n",
       "      <td>0</td>\n",
       "      <td>B0005</td>\n",
       "    </tr>\n",
       "    <tr>\n",
       "      <th>2</th>\n",
       "      <td>3</td>\n",
       "      <td>677.0</td>\n",
       "      <td>ISS</td>\n",
       "      <td>CCSFS SLC 40</td>\n",
       "      <td>1</td>\n",
       "      <td>0</td>\n",
       "      <td>0</td>\n",
       "      <td>0</td>\n",
       "      <td>NaN</td>\n",
       "      <td>1.0</td>\n",
       "      <td>0</td>\n",
       "      <td>B0007</td>\n",
       "    </tr>\n",
       "    <tr>\n",
       "      <th>3</th>\n",
       "      <td>4</td>\n",
       "      <td>500.0</td>\n",
       "      <td>PO</td>\n",
       "      <td>VAFB SLC 4E</td>\n",
       "      <td>1</td>\n",
       "      <td>0</td>\n",
       "      <td>0</td>\n",
       "      <td>0</td>\n",
       "      <td>NaN</td>\n",
       "      <td>1.0</td>\n",
       "      <td>0</td>\n",
       "      <td>B1003</td>\n",
       "    </tr>\n",
       "    <tr>\n",
       "      <th>4</th>\n",
       "      <td>5</td>\n",
       "      <td>3170.0</td>\n",
       "      <td>GTO</td>\n",
       "      <td>CCSFS SLC 40</td>\n",
       "      <td>1</td>\n",
       "      <td>0</td>\n",
       "      <td>0</td>\n",
       "      <td>0</td>\n",
       "      <td>NaN</td>\n",
       "      <td>1.0</td>\n",
       "      <td>0</td>\n",
       "      <td>B1004</td>\n",
       "    </tr>\n",
       "  </tbody>\n",
       "</table>\n",
       "</div>"
      ],
      "text/plain": [
       "   FlightNumber  PayloadMass Orbit    LaunchSite  Flights  GridFins  Reused  \\\n",
       "0             1       7341.2   LEO  CCSFS SLC 40        1         0       0   \n",
       "1             2        525.0   LEO  CCSFS SLC 40        1         0       0   \n",
       "2             3        677.0   ISS  CCSFS SLC 40        1         0       0   \n",
       "3             4        500.0    PO   VAFB SLC 4E        1         0       0   \n",
       "4             5       3170.0   GTO  CCSFS SLC 40        1         0       0   \n",
       "\n",
       "   Legs LandingPad  Block  ReusedCount SerialNumber  \n",
       "0     0        NaN    1.0            0        B0003  \n",
       "1     0        NaN    1.0            0        B0005  \n",
       "2     0        NaN    1.0            0        B0007  \n",
       "3     0        NaN    1.0            0        B1003  \n",
       "4     0        NaN    1.0            0        B1004  "
      ]
     },
     "execution_count": 80,
     "metadata": {},
     "output_type": "execute_result"
    }
   ],
   "source": [
    "features.head()"
   ]
  },
  {
   "cell_type": "markdown",
   "id": "492aea52",
   "metadata": {},
   "source": [
    "One hot encode the important categorical features"
   ]
  },
  {
   "cell_type": "code",
   "execution_count": 81,
   "id": "626c63c6",
   "metadata": {},
   "outputs": [],
   "source": [
    "one_hot_features = pd.get_dummies(features[['Orbit', 'LaunchSite', 'LandingPad', 'SerialNumber']])"
   ]
  },
  {
   "cell_type": "code",
   "execution_count": 82,
   "id": "1d7f613b",
   "metadata": {},
   "outputs": [],
   "source": [
    "engineered_features = pd.concat([features, one_hot_features], axis = 1)"
   ]
  },
  {
   "cell_type": "code",
   "execution_count": 83,
   "id": "cd825d17",
   "metadata": {},
   "outputs": [
    {
     "data": {
      "text/html": [
       "<div>\n",
       "<style scoped>\n",
       "    .dataframe tbody tr th:only-of-type {\n",
       "        vertical-align: middle;\n",
       "    }\n",
       "\n",
       "    .dataframe tbody tr th {\n",
       "        vertical-align: top;\n",
       "    }\n",
       "\n",
       "    .dataframe thead th {\n",
       "        text-align: right;\n",
       "    }\n",
       "</style>\n",
       "<table border=\"1\" class=\"dataframe\">\n",
       "  <thead>\n",
       "    <tr style=\"text-align: right;\">\n",
       "      <th></th>\n",
       "      <th>FlightNumber</th>\n",
       "      <th>PayloadMass</th>\n",
       "      <th>Orbit</th>\n",
       "      <th>LaunchSite</th>\n",
       "      <th>Flights</th>\n",
       "      <th>GridFins</th>\n",
       "      <th>Reused</th>\n",
       "      <th>Legs</th>\n",
       "      <th>LandingPad</th>\n",
       "      <th>Block</th>\n",
       "      <th>...</th>\n",
       "      <th>SerialNumber_B1051</th>\n",
       "      <th>SerialNumber_B1054</th>\n",
       "      <th>SerialNumber_B1056</th>\n",
       "      <th>SerialNumber_B1058</th>\n",
       "      <th>SerialNumber_B1059</th>\n",
       "      <th>SerialNumber_B1060</th>\n",
       "      <th>SerialNumber_B1061</th>\n",
       "      <th>SerialNumber_B1062</th>\n",
       "      <th>SerialNumber_B1063</th>\n",
       "      <th>SerialNumber_B1067</th>\n",
       "    </tr>\n",
       "  </thead>\n",
       "  <tbody>\n",
       "    <tr>\n",
       "      <th>0</th>\n",
       "      <td>1</td>\n",
       "      <td>7341.2</td>\n",
       "      <td>LEO</td>\n",
       "      <td>CCSFS SLC 40</td>\n",
       "      <td>1</td>\n",
       "      <td>0</td>\n",
       "      <td>0</td>\n",
       "      <td>0</td>\n",
       "      <td>NaN</td>\n",
       "      <td>1.0</td>\n",
       "      <td>...</td>\n",
       "      <td>0</td>\n",
       "      <td>0</td>\n",
       "      <td>0</td>\n",
       "      <td>0</td>\n",
       "      <td>0</td>\n",
       "      <td>0</td>\n",
       "      <td>0</td>\n",
       "      <td>0</td>\n",
       "      <td>0</td>\n",
       "      <td>0</td>\n",
       "    </tr>\n",
       "    <tr>\n",
       "      <th>1</th>\n",
       "      <td>2</td>\n",
       "      <td>525.0</td>\n",
       "      <td>LEO</td>\n",
       "      <td>CCSFS SLC 40</td>\n",
       "      <td>1</td>\n",
       "      <td>0</td>\n",
       "      <td>0</td>\n",
       "      <td>0</td>\n",
       "      <td>NaN</td>\n",
       "      <td>1.0</td>\n",
       "      <td>...</td>\n",
       "      <td>0</td>\n",
       "      <td>0</td>\n",
       "      <td>0</td>\n",
       "      <td>0</td>\n",
       "      <td>0</td>\n",
       "      <td>0</td>\n",
       "      <td>0</td>\n",
       "      <td>0</td>\n",
       "      <td>0</td>\n",
       "      <td>0</td>\n",
       "    </tr>\n",
       "    <tr>\n",
       "      <th>2</th>\n",
       "      <td>3</td>\n",
       "      <td>677.0</td>\n",
       "      <td>ISS</td>\n",
       "      <td>CCSFS SLC 40</td>\n",
       "      <td>1</td>\n",
       "      <td>0</td>\n",
       "      <td>0</td>\n",
       "      <td>0</td>\n",
       "      <td>NaN</td>\n",
       "      <td>1.0</td>\n",
       "      <td>...</td>\n",
       "      <td>0</td>\n",
       "      <td>0</td>\n",
       "      <td>0</td>\n",
       "      <td>0</td>\n",
       "      <td>0</td>\n",
       "      <td>0</td>\n",
       "      <td>0</td>\n",
       "      <td>0</td>\n",
       "      <td>0</td>\n",
       "      <td>0</td>\n",
       "    </tr>\n",
       "    <tr>\n",
       "      <th>3</th>\n",
       "      <td>4</td>\n",
       "      <td>500.0</td>\n",
       "      <td>PO</td>\n",
       "      <td>VAFB SLC 4E</td>\n",
       "      <td>1</td>\n",
       "      <td>0</td>\n",
       "      <td>0</td>\n",
       "      <td>0</td>\n",
       "      <td>NaN</td>\n",
       "      <td>1.0</td>\n",
       "      <td>...</td>\n",
       "      <td>0</td>\n",
       "      <td>0</td>\n",
       "      <td>0</td>\n",
       "      <td>0</td>\n",
       "      <td>0</td>\n",
       "      <td>0</td>\n",
       "      <td>0</td>\n",
       "      <td>0</td>\n",
       "      <td>0</td>\n",
       "      <td>0</td>\n",
       "    </tr>\n",
       "    <tr>\n",
       "      <th>4</th>\n",
       "      <td>5</td>\n",
       "      <td>3170.0</td>\n",
       "      <td>GTO</td>\n",
       "      <td>CCSFS SLC 40</td>\n",
       "      <td>1</td>\n",
       "      <td>0</td>\n",
       "      <td>0</td>\n",
       "      <td>0</td>\n",
       "      <td>NaN</td>\n",
       "      <td>1.0</td>\n",
       "      <td>...</td>\n",
       "      <td>0</td>\n",
       "      <td>0</td>\n",
       "      <td>0</td>\n",
       "      <td>0</td>\n",
       "      <td>0</td>\n",
       "      <td>0</td>\n",
       "      <td>0</td>\n",
       "      <td>0</td>\n",
       "      <td>0</td>\n",
       "      <td>0</td>\n",
       "    </tr>\n",
       "  </tbody>\n",
       "</table>\n",
       "<p>5 rows × 89 columns</p>\n",
       "</div>"
      ],
      "text/plain": [
       "   FlightNumber  PayloadMass Orbit    LaunchSite  Flights  GridFins  Reused  \\\n",
       "0             1       7341.2   LEO  CCSFS SLC 40        1         0       0   \n",
       "1             2        525.0   LEO  CCSFS SLC 40        1         0       0   \n",
       "2             3        677.0   ISS  CCSFS SLC 40        1         0       0   \n",
       "3             4        500.0    PO   VAFB SLC 4E        1         0       0   \n",
       "4             5       3170.0   GTO  CCSFS SLC 40        1         0       0   \n",
       "\n",
       "   Legs LandingPad  Block  ...  SerialNumber_B1051 SerialNumber_B1054  \\\n",
       "0     0        NaN    1.0  ...                   0                  0   \n",
       "1     0        NaN    1.0  ...                   0                  0   \n",
       "2     0        NaN    1.0  ...                   0                  0   \n",
       "3     0        NaN    1.0  ...                   0                  0   \n",
       "4     0        NaN    1.0  ...                   0                  0   \n",
       "\n",
       "   SerialNumber_B1056  SerialNumber_B1058  SerialNumber_B1059  \\\n",
       "0                   0                   0                   0   \n",
       "1                   0                   0                   0   \n",
       "2                   0                   0                   0   \n",
       "3                   0                   0                   0   \n",
       "4                   0                   0                   0   \n",
       "\n",
       "   SerialNumber_B1060  SerialNumber_B1061  SerialNumber_B1062  \\\n",
       "0                   0                   0                   0   \n",
       "1                   0                   0                   0   \n",
       "2                   0                   0                   0   \n",
       "3                   0                   0                   0   \n",
       "4                   0                   0                   0   \n",
       "\n",
       "   SerialNumber_B1063  SerialNumber_B1067  \n",
       "0                   0                   0  \n",
       "1                   0                   0  \n",
       "2                   0                   0  \n",
       "3                   0                   0  \n",
       "4                   0                   0  \n",
       "\n",
       "[5 rows x 89 columns]"
      ]
     },
     "execution_count": 83,
     "metadata": {},
     "output_type": "execute_result"
    }
   ],
   "source": [
    "engineered_features.head()"
   ]
  },
  {
   "cell_type": "code",
   "execution_count": 84,
   "id": "8859309e",
   "metadata": {},
   "outputs": [],
   "source": [
    "engineered_features.drop(columns=['Orbit', 'LaunchSite', 'LandingPad', 'SerialNumber'], inplace=True)"
   ]
  },
  {
   "cell_type": "code",
   "execution_count": 86,
   "id": "3eb3111d",
   "metadata": {},
   "outputs": [
    {
     "data": {
      "text/html": [
       "<div>\n",
       "<style scoped>\n",
       "    .dataframe tbody tr th:only-of-type {\n",
       "        vertical-align: middle;\n",
       "    }\n",
       "\n",
       "    .dataframe tbody tr th {\n",
       "        vertical-align: top;\n",
       "    }\n",
       "\n",
       "    .dataframe thead th {\n",
       "        text-align: right;\n",
       "    }\n",
       "</style>\n",
       "<table border=\"1\" class=\"dataframe\">\n",
       "  <thead>\n",
       "    <tr style=\"text-align: right;\">\n",
       "      <th></th>\n",
       "      <th>FlightNumber</th>\n",
       "      <th>PayloadMass</th>\n",
       "      <th>Flights</th>\n",
       "      <th>GridFins</th>\n",
       "      <th>Reused</th>\n",
       "      <th>Legs</th>\n",
       "      <th>Block</th>\n",
       "      <th>ReusedCount</th>\n",
       "      <th>Orbit_ES-L1</th>\n",
       "      <th>Orbit_GEO</th>\n",
       "      <th>...</th>\n",
       "      <th>SerialNumber_B1051</th>\n",
       "      <th>SerialNumber_B1054</th>\n",
       "      <th>SerialNumber_B1056</th>\n",
       "      <th>SerialNumber_B1058</th>\n",
       "      <th>SerialNumber_B1059</th>\n",
       "      <th>SerialNumber_B1060</th>\n",
       "      <th>SerialNumber_B1061</th>\n",
       "      <th>SerialNumber_B1062</th>\n",
       "      <th>SerialNumber_B1063</th>\n",
       "      <th>SerialNumber_B1067</th>\n",
       "    </tr>\n",
       "  </thead>\n",
       "  <tbody>\n",
       "    <tr>\n",
       "      <th>0</th>\n",
       "      <td>1</td>\n",
       "      <td>7341.2</td>\n",
       "      <td>1</td>\n",
       "      <td>0</td>\n",
       "      <td>0</td>\n",
       "      <td>0</td>\n",
       "      <td>1.0</td>\n",
       "      <td>0</td>\n",
       "      <td>0</td>\n",
       "      <td>0</td>\n",
       "      <td>...</td>\n",
       "      <td>0</td>\n",
       "      <td>0</td>\n",
       "      <td>0</td>\n",
       "      <td>0</td>\n",
       "      <td>0</td>\n",
       "      <td>0</td>\n",
       "      <td>0</td>\n",
       "      <td>0</td>\n",
       "      <td>0</td>\n",
       "      <td>0</td>\n",
       "    </tr>\n",
       "    <tr>\n",
       "      <th>1</th>\n",
       "      <td>2</td>\n",
       "      <td>525.0</td>\n",
       "      <td>1</td>\n",
       "      <td>0</td>\n",
       "      <td>0</td>\n",
       "      <td>0</td>\n",
       "      <td>1.0</td>\n",
       "      <td>0</td>\n",
       "      <td>0</td>\n",
       "      <td>0</td>\n",
       "      <td>...</td>\n",
       "      <td>0</td>\n",
       "      <td>0</td>\n",
       "      <td>0</td>\n",
       "      <td>0</td>\n",
       "      <td>0</td>\n",
       "      <td>0</td>\n",
       "      <td>0</td>\n",
       "      <td>0</td>\n",
       "      <td>0</td>\n",
       "      <td>0</td>\n",
       "    </tr>\n",
       "    <tr>\n",
       "      <th>2</th>\n",
       "      <td>3</td>\n",
       "      <td>677.0</td>\n",
       "      <td>1</td>\n",
       "      <td>0</td>\n",
       "      <td>0</td>\n",
       "      <td>0</td>\n",
       "      <td>1.0</td>\n",
       "      <td>0</td>\n",
       "      <td>0</td>\n",
       "      <td>0</td>\n",
       "      <td>...</td>\n",
       "      <td>0</td>\n",
       "      <td>0</td>\n",
       "      <td>0</td>\n",
       "      <td>0</td>\n",
       "      <td>0</td>\n",
       "      <td>0</td>\n",
       "      <td>0</td>\n",
       "      <td>0</td>\n",
       "      <td>0</td>\n",
       "      <td>0</td>\n",
       "    </tr>\n",
       "    <tr>\n",
       "      <th>3</th>\n",
       "      <td>4</td>\n",
       "      <td>500.0</td>\n",
       "      <td>1</td>\n",
       "      <td>0</td>\n",
       "      <td>0</td>\n",
       "      <td>0</td>\n",
       "      <td>1.0</td>\n",
       "      <td>0</td>\n",
       "      <td>0</td>\n",
       "      <td>0</td>\n",
       "      <td>...</td>\n",
       "      <td>0</td>\n",
       "      <td>0</td>\n",
       "      <td>0</td>\n",
       "      <td>0</td>\n",
       "      <td>0</td>\n",
       "      <td>0</td>\n",
       "      <td>0</td>\n",
       "      <td>0</td>\n",
       "      <td>0</td>\n",
       "      <td>0</td>\n",
       "    </tr>\n",
       "    <tr>\n",
       "      <th>4</th>\n",
       "      <td>5</td>\n",
       "      <td>3170.0</td>\n",
       "      <td>1</td>\n",
       "      <td>0</td>\n",
       "      <td>0</td>\n",
       "      <td>0</td>\n",
       "      <td>1.0</td>\n",
       "      <td>0</td>\n",
       "      <td>0</td>\n",
       "      <td>0</td>\n",
       "      <td>...</td>\n",
       "      <td>0</td>\n",
       "      <td>0</td>\n",
       "      <td>0</td>\n",
       "      <td>0</td>\n",
       "      <td>0</td>\n",
       "      <td>0</td>\n",
       "      <td>0</td>\n",
       "      <td>0</td>\n",
       "      <td>0</td>\n",
       "      <td>0</td>\n",
       "    </tr>\n",
       "  </tbody>\n",
       "</table>\n",
       "<p>5 rows × 85 columns</p>\n",
       "</div>"
      ],
      "text/plain": [
       "   FlightNumber  PayloadMass  Flights  GridFins  Reused  Legs  Block  \\\n",
       "0             1       7341.2        1         0       0     0    1.0   \n",
       "1             2        525.0        1         0       0     0    1.0   \n",
       "2             3        677.0        1         0       0     0    1.0   \n",
       "3             4        500.0        1         0       0     0    1.0   \n",
       "4             5       3170.0        1         0       0     0    1.0   \n",
       "\n",
       "   ReusedCount  Orbit_ES-L1  Orbit_GEO  ...  SerialNumber_B1051  \\\n",
       "0            0            0          0  ...                   0   \n",
       "1            0            0          0  ...                   0   \n",
       "2            0            0          0  ...                   0   \n",
       "3            0            0          0  ...                   0   \n",
       "4            0            0          0  ...                   0   \n",
       "\n",
       "   SerialNumber_B1054  SerialNumber_B1056  SerialNumber_B1058  \\\n",
       "0                   0                   0                   0   \n",
       "1                   0                   0                   0   \n",
       "2                   0                   0                   0   \n",
       "3                   0                   0                   0   \n",
       "4                   0                   0                   0   \n",
       "\n",
       "   SerialNumber_B1059  SerialNumber_B1060  SerialNumber_B1061  \\\n",
       "0                   0                   0                   0   \n",
       "1                   0                   0                   0   \n",
       "2                   0                   0                   0   \n",
       "3                   0                   0                   0   \n",
       "4                   0                   0                   0   \n",
       "\n",
       "   SerialNumber_B1062  SerialNumber_B1063  SerialNumber_B1067  \n",
       "0                   0                   0                   0  \n",
       "1                   0                   0                   0  \n",
       "2                   0                   0                   0  \n",
       "3                   0                   0                   0  \n",
       "4                   0                   0                   0  \n",
       "\n",
       "[5 rows x 85 columns]"
      ]
     },
     "execution_count": 86,
     "metadata": {},
     "output_type": "execute_result"
    }
   ],
   "source": [
    "engineered_features.head()"
   ]
  },
  {
   "cell_type": "code",
   "execution_count": 90,
   "id": "f9379b39",
   "metadata": {},
   "outputs": [],
   "source": [
    "engineered_features.to_csv('engineered_features.csv', index=False)"
   ]
  },
  {
   "cell_type": "code",
   "execution_count": null,
   "id": "5677f2cf",
   "metadata": {},
   "outputs": [],
   "source": []
  }
 ],
 "metadata": {
  "kernelspec": {
   "display_name": "Python 3",
   "language": "python",
   "name": "python3"
  },
  "language_info": {
   "codemirror_mode": {
    "name": "ipython",
    "version": 3
   },
   "file_extension": ".py",
   "mimetype": "text/x-python",
   "name": "python",
   "nbconvert_exporter": "python",
   "pygments_lexer": "ipython3",
   "version": "3.8.8"
  },
  "toc": {
   "base_numbering": 1,
   "nav_menu": {},
   "number_sections": true,
   "sideBar": true,
   "skip_h1_title": false,
   "title_cell": "Table of Contents",
   "title_sidebar": "Contents",
   "toc_cell": false,
   "toc_position": {},
   "toc_section_display": true,
   "toc_window_display": false
  },
  "varInspector": {
   "cols": {
    "lenName": 16,
    "lenType": 16,
    "lenVar": 40
   },
   "kernels_config": {
    "python": {
     "delete_cmd_postfix": "",
     "delete_cmd_prefix": "del ",
     "library": "var_list.py",
     "varRefreshCmd": "print(var_dic_list())"
    },
    "r": {
     "delete_cmd_postfix": ") ",
     "delete_cmd_prefix": "rm(",
     "library": "var_list.r",
     "varRefreshCmd": "cat(var_dic_list()) "
    }
   },
   "types_to_exclude": [
    "module",
    "function",
    "builtin_function_or_method",
    "instance",
    "_Feature"
   ],
   "window_display": false
  }
 },
 "nbformat": 4,
 "nbformat_minor": 5
}
