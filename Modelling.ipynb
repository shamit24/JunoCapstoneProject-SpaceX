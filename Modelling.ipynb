{
 "cells": [
  {
   "cell_type": "code",
   "execution_count": 80,
   "id": "4004fb2c",
   "metadata": {},
   "outputs": [],
   "source": [
    "# Pandas is a software library written for the Python programming language for data manipulation and analysis.\n",
    "import pandas as pd\n",
    "# NumPy is a library for the Python programming language, adding support for large, multi-dimensional arrays and matrices, along with a large collection of high-level mathematical functions to operate on these arrays\n",
    "import numpy as np\n",
    "# Matplotlib is a plotting library for python and pyplot gives us a MatLab like plotting framework. We will use this in our plotter function to plot data.\n",
    "import matplotlib.pyplot as plt\n",
    "#Seaborn is a Python data visualization library based on matplotlib. It provides a high-level interface for drawing attractive and informative statistical graphics\n",
    "import seaborn as sns\n",
    "# Preprocessing allows us to standarsize our data\n",
    "from sklearn import preprocessing\n",
    "# Allows us to split our data into training and testing data\n",
    "from sklearn.model_selection import train_test_split\n",
    "# Allows us to test parameters of classification algorithms and find the best one\n",
    "from sklearn.model_selection import GridSearchCV\n",
    "# Logistic Regression classification algorithm\n",
    "from sklearn.linear_model import LogisticRegression\n",
    "# Support Vector Machine classification algorithm\n",
    "from sklearn.svm import SVC\n",
    "# Decision Tree classification algorithm\n",
    "from sklearn.tree import DecisionTreeClassifier\n",
    "# K Nearest Neighbors classification algorithm\n",
    "from sklearn.neighbors import KNeighborsClassifier\n",
    "from sklearn.ensemble import RandomForestClassifier\n",
    "from sklearn.model_selection import cross_val_score\n",
    "\n",
    "from sklearn.metrics import classification_report\n",
    "from sklearn.metrics import confusion_matrix\n",
    "from sklearn.metrics import precision_score, recall_score, accuracy_score\n",
    "from sklearn.metrics import plot_roc_curve\n",
    "\n",
    "# scikitplot to directly plot our results\n",
    "import graphviz\n",
    "import scikitplot as skplt\n",
    "from mlxtend.plotting import plot_decision_regions\n",
    "from mlxtend.plotting import category_scatter"
   ]
  },
  {
   "cell_type": "code",
   "execution_count": 25,
   "id": "8fba12f7",
   "metadata": {},
   "outputs": [
    {
     "data": {
      "text/html": [
       "<div>\n",
       "<style scoped>\n",
       "    .dataframe tbody tr th:only-of-type {\n",
       "        vertical-align: middle;\n",
       "    }\n",
       "\n",
       "    .dataframe tbody tr th {\n",
       "        vertical-align: top;\n",
       "    }\n",
       "\n",
       "    .dataframe thead th {\n",
       "        text-align: right;\n",
       "    }\n",
       "</style>\n",
       "<table border=\"1\" class=\"dataframe\">\n",
       "  <thead>\n",
       "    <tr style=\"text-align: right;\">\n",
       "      <th></th>\n",
       "      <th>FlightNumber</th>\n",
       "      <th>Date</th>\n",
       "      <th>RocketName</th>\n",
       "      <th>Longitude</th>\n",
       "      <th>Latitude</th>\n",
       "      <th>LaunchSite</th>\n",
       "      <th>PayloadMass</th>\n",
       "      <th>Orbit</th>\n",
       "      <th>Block</th>\n",
       "      <th>SerialNumber</th>\n",
       "      <th>ReusedCount</th>\n",
       "      <th>LandingOutcome</th>\n",
       "      <th>Flights</th>\n",
       "      <th>GridFins</th>\n",
       "      <th>Reused</th>\n",
       "      <th>Legs</th>\n",
       "      <th>LandingPad</th>\n",
       "      <th>Class</th>\n",
       "    </tr>\n",
       "  </thead>\n",
       "  <tbody>\n",
       "    <tr>\n",
       "      <th>0</th>\n",
       "      <td>1</td>\n",
       "      <td>2010-06-04</td>\n",
       "      <td>Falcon 9</td>\n",
       "      <td>-80.577366</td>\n",
       "      <td>28.561857</td>\n",
       "      <td>CCSFS SLC 40</td>\n",
       "      <td>7341.2</td>\n",
       "      <td>LEO</td>\n",
       "      <td>1.0</td>\n",
       "      <td>B0003</td>\n",
       "      <td>0</td>\n",
       "      <td>None None</td>\n",
       "      <td>1</td>\n",
       "      <td>False</td>\n",
       "      <td>False</td>\n",
       "      <td>False</td>\n",
       "      <td>NaN</td>\n",
       "      <td>0</td>\n",
       "    </tr>\n",
       "    <tr>\n",
       "      <th>1</th>\n",
       "      <td>2</td>\n",
       "      <td>2012-05-22</td>\n",
       "      <td>Falcon 9</td>\n",
       "      <td>-80.577366</td>\n",
       "      <td>28.561857</td>\n",
       "      <td>CCSFS SLC 40</td>\n",
       "      <td>525.0</td>\n",
       "      <td>LEO</td>\n",
       "      <td>1.0</td>\n",
       "      <td>B0005</td>\n",
       "      <td>0</td>\n",
       "      <td>None None</td>\n",
       "      <td>1</td>\n",
       "      <td>False</td>\n",
       "      <td>False</td>\n",
       "      <td>False</td>\n",
       "      <td>NaN</td>\n",
       "      <td>0</td>\n",
       "    </tr>\n",
       "    <tr>\n",
       "      <th>2</th>\n",
       "      <td>3</td>\n",
       "      <td>2013-03-01</td>\n",
       "      <td>Falcon 9</td>\n",
       "      <td>-80.577366</td>\n",
       "      <td>28.561857</td>\n",
       "      <td>CCSFS SLC 40</td>\n",
       "      <td>677.0</td>\n",
       "      <td>ISS</td>\n",
       "      <td>1.0</td>\n",
       "      <td>B0007</td>\n",
       "      <td>0</td>\n",
       "      <td>None None</td>\n",
       "      <td>1</td>\n",
       "      <td>False</td>\n",
       "      <td>False</td>\n",
       "      <td>False</td>\n",
       "      <td>NaN</td>\n",
       "      <td>0</td>\n",
       "    </tr>\n",
       "    <tr>\n",
       "      <th>3</th>\n",
       "      <td>4</td>\n",
       "      <td>2013-09-29</td>\n",
       "      <td>Falcon 9</td>\n",
       "      <td>-120.610829</td>\n",
       "      <td>34.632093</td>\n",
       "      <td>VAFB SLC 4E</td>\n",
       "      <td>500.0</td>\n",
       "      <td>PO</td>\n",
       "      <td>1.0</td>\n",
       "      <td>B1003</td>\n",
       "      <td>0</td>\n",
       "      <td>False Ocean</td>\n",
       "      <td>1</td>\n",
       "      <td>False</td>\n",
       "      <td>False</td>\n",
       "      <td>False</td>\n",
       "      <td>NaN</td>\n",
       "      <td>0</td>\n",
       "    </tr>\n",
       "    <tr>\n",
       "      <th>4</th>\n",
       "      <td>5</td>\n",
       "      <td>2013-12-03</td>\n",
       "      <td>Falcon 9</td>\n",
       "      <td>-80.577366</td>\n",
       "      <td>28.561857</td>\n",
       "      <td>CCSFS SLC 40</td>\n",
       "      <td>3170.0</td>\n",
       "      <td>GTO</td>\n",
       "      <td>1.0</td>\n",
       "      <td>B1004</td>\n",
       "      <td>0</td>\n",
       "      <td>None None</td>\n",
       "      <td>1</td>\n",
       "      <td>False</td>\n",
       "      <td>False</td>\n",
       "      <td>False</td>\n",
       "      <td>NaN</td>\n",
       "      <td>0</td>\n",
       "    </tr>\n",
       "  </tbody>\n",
       "</table>\n",
       "</div>"
      ],
      "text/plain": [
       "   FlightNumber        Date RocketName   Longitude   Latitude    LaunchSite  \\\n",
       "0             1  2010-06-04   Falcon 9  -80.577366  28.561857  CCSFS SLC 40   \n",
       "1             2  2012-05-22   Falcon 9  -80.577366  28.561857  CCSFS SLC 40   \n",
       "2             3  2013-03-01   Falcon 9  -80.577366  28.561857  CCSFS SLC 40   \n",
       "3             4  2013-09-29   Falcon 9 -120.610829  34.632093   VAFB SLC 4E   \n",
       "4             5  2013-12-03   Falcon 9  -80.577366  28.561857  CCSFS SLC 40   \n",
       "\n",
       "   PayloadMass Orbit  Block SerialNumber  ReusedCount LandingOutcome  Flights  \\\n",
       "0       7341.2   LEO    1.0        B0003            0      None None        1   \n",
       "1        525.0   LEO    1.0        B0005            0      None None        1   \n",
       "2        677.0   ISS    1.0        B0007            0      None None        1   \n",
       "3        500.0    PO    1.0        B1003            0    False Ocean        1   \n",
       "4       3170.0   GTO    1.0        B1004            0      None None        1   \n",
       "\n",
       "   GridFins  Reused   Legs LandingPad  Class  \n",
       "0     False   False  False        NaN      0  \n",
       "1     False   False  False        NaN      0  \n",
       "2     False   False  False        NaN      0  \n",
       "3     False   False  False        NaN      0  \n",
       "4     False   False  False        NaN      0  "
      ]
     },
     "execution_count": 25,
     "metadata": {},
     "output_type": "execute_result"
    }
   ],
   "source": [
    "falcon9_df = pd.read_csv('falcon9_data_class.csv')\n",
    "falcon9_df.head()"
   ]
  },
  {
   "cell_type": "code",
   "execution_count": 26,
   "id": "11bd9366",
   "metadata": {},
   "outputs": [
    {
     "data": {
      "text/plain": [
       "FlightNumber       0\n",
       "Date               0\n",
       "RocketName         0\n",
       "Longitude          0\n",
       "Latitude           0\n",
       "LaunchSite         0\n",
       "PayloadMass        0\n",
       "Orbit              0\n",
       "Block              0\n",
       "SerialNumber       0\n",
       "ReusedCount        0\n",
       "LandingOutcome     0\n",
       "Flights            0\n",
       "GridFins           0\n",
       "Reused             0\n",
       "Legs               0\n",
       "LandingPad        26\n",
       "Class              0\n",
       "dtype: int64"
      ]
     },
     "execution_count": 26,
     "metadata": {},
     "output_type": "execute_result"
    }
   ],
   "source": [
    "falcon9_df.isna().sum()"
   ]
  },
  {
   "cell_type": "code",
   "execution_count": 27,
   "id": "07bdb50a",
   "metadata": {},
   "outputs": [],
   "source": [
    "engineered_features = pd.read_csv('engineered_features.csv')"
   ]
  },
  {
   "cell_type": "code",
   "execution_count": 28,
   "id": "8747adc3",
   "metadata": {},
   "outputs": [
    {
     "data": {
      "text/html": [
       "<div>\n",
       "<style scoped>\n",
       "    .dataframe tbody tr th:only-of-type {\n",
       "        vertical-align: middle;\n",
       "    }\n",
       "\n",
       "    .dataframe tbody tr th {\n",
       "        vertical-align: top;\n",
       "    }\n",
       "\n",
       "    .dataframe thead th {\n",
       "        text-align: right;\n",
       "    }\n",
       "</style>\n",
       "<table border=\"1\" class=\"dataframe\">\n",
       "  <thead>\n",
       "    <tr style=\"text-align: right;\">\n",
       "      <th></th>\n",
       "      <th>FlightNumber</th>\n",
       "      <th>PayloadMass</th>\n",
       "      <th>Flights</th>\n",
       "      <th>GridFins</th>\n",
       "      <th>Reused</th>\n",
       "      <th>Legs</th>\n",
       "      <th>Block</th>\n",
       "      <th>ReusedCount</th>\n",
       "      <th>Orbit_ES-L1</th>\n",
       "      <th>Orbit_GEO</th>\n",
       "      <th>...</th>\n",
       "      <th>SerialNumber_B1051</th>\n",
       "      <th>SerialNumber_B1054</th>\n",
       "      <th>SerialNumber_B1056</th>\n",
       "      <th>SerialNumber_B1058</th>\n",
       "      <th>SerialNumber_B1059</th>\n",
       "      <th>SerialNumber_B1060</th>\n",
       "      <th>SerialNumber_B1061</th>\n",
       "      <th>SerialNumber_B1062</th>\n",
       "      <th>SerialNumber_B1063</th>\n",
       "      <th>SerialNumber_B1067</th>\n",
       "    </tr>\n",
       "  </thead>\n",
       "  <tbody>\n",
       "    <tr>\n",
       "      <th>0</th>\n",
       "      <td>1</td>\n",
       "      <td>7341.2</td>\n",
       "      <td>1</td>\n",
       "      <td>0</td>\n",
       "      <td>0</td>\n",
       "      <td>0</td>\n",
       "      <td>1.0</td>\n",
       "      <td>0</td>\n",
       "      <td>0</td>\n",
       "      <td>0</td>\n",
       "      <td>...</td>\n",
       "      <td>0</td>\n",
       "      <td>0</td>\n",
       "      <td>0</td>\n",
       "      <td>0</td>\n",
       "      <td>0</td>\n",
       "      <td>0</td>\n",
       "      <td>0</td>\n",
       "      <td>0</td>\n",
       "      <td>0</td>\n",
       "      <td>0</td>\n",
       "    </tr>\n",
       "    <tr>\n",
       "      <th>1</th>\n",
       "      <td>2</td>\n",
       "      <td>525.0</td>\n",
       "      <td>1</td>\n",
       "      <td>0</td>\n",
       "      <td>0</td>\n",
       "      <td>0</td>\n",
       "      <td>1.0</td>\n",
       "      <td>0</td>\n",
       "      <td>0</td>\n",
       "      <td>0</td>\n",
       "      <td>...</td>\n",
       "      <td>0</td>\n",
       "      <td>0</td>\n",
       "      <td>0</td>\n",
       "      <td>0</td>\n",
       "      <td>0</td>\n",
       "      <td>0</td>\n",
       "      <td>0</td>\n",
       "      <td>0</td>\n",
       "      <td>0</td>\n",
       "      <td>0</td>\n",
       "    </tr>\n",
       "    <tr>\n",
       "      <th>2</th>\n",
       "      <td>3</td>\n",
       "      <td>677.0</td>\n",
       "      <td>1</td>\n",
       "      <td>0</td>\n",
       "      <td>0</td>\n",
       "      <td>0</td>\n",
       "      <td>1.0</td>\n",
       "      <td>0</td>\n",
       "      <td>0</td>\n",
       "      <td>0</td>\n",
       "      <td>...</td>\n",
       "      <td>0</td>\n",
       "      <td>0</td>\n",
       "      <td>0</td>\n",
       "      <td>0</td>\n",
       "      <td>0</td>\n",
       "      <td>0</td>\n",
       "      <td>0</td>\n",
       "      <td>0</td>\n",
       "      <td>0</td>\n",
       "      <td>0</td>\n",
       "    </tr>\n",
       "    <tr>\n",
       "      <th>3</th>\n",
       "      <td>4</td>\n",
       "      <td>500.0</td>\n",
       "      <td>1</td>\n",
       "      <td>0</td>\n",
       "      <td>0</td>\n",
       "      <td>0</td>\n",
       "      <td>1.0</td>\n",
       "      <td>0</td>\n",
       "      <td>0</td>\n",
       "      <td>0</td>\n",
       "      <td>...</td>\n",
       "      <td>0</td>\n",
       "      <td>0</td>\n",
       "      <td>0</td>\n",
       "      <td>0</td>\n",
       "      <td>0</td>\n",
       "      <td>0</td>\n",
       "      <td>0</td>\n",
       "      <td>0</td>\n",
       "      <td>0</td>\n",
       "      <td>0</td>\n",
       "    </tr>\n",
       "    <tr>\n",
       "      <th>4</th>\n",
       "      <td>5</td>\n",
       "      <td>3170.0</td>\n",
       "      <td>1</td>\n",
       "      <td>0</td>\n",
       "      <td>0</td>\n",
       "      <td>0</td>\n",
       "      <td>1.0</td>\n",
       "      <td>0</td>\n",
       "      <td>0</td>\n",
       "      <td>0</td>\n",
       "      <td>...</td>\n",
       "      <td>0</td>\n",
       "      <td>0</td>\n",
       "      <td>0</td>\n",
       "      <td>0</td>\n",
       "      <td>0</td>\n",
       "      <td>0</td>\n",
       "      <td>0</td>\n",
       "      <td>0</td>\n",
       "      <td>0</td>\n",
       "      <td>0</td>\n",
       "    </tr>\n",
       "  </tbody>\n",
       "</table>\n",
       "<p>5 rows × 85 columns</p>\n",
       "</div>"
      ],
      "text/plain": [
       "   FlightNumber  PayloadMass  Flights  GridFins  Reused  Legs  Block  \\\n",
       "0             1       7341.2        1         0       0     0    1.0   \n",
       "1             2        525.0        1         0       0     0    1.0   \n",
       "2             3        677.0        1         0       0     0    1.0   \n",
       "3             4        500.0        1         0       0     0    1.0   \n",
       "4             5       3170.0        1         0       0     0    1.0   \n",
       "\n",
       "   ReusedCount  Orbit_ES-L1  Orbit_GEO  ...  SerialNumber_B1051  \\\n",
       "0            0            0          0  ...                   0   \n",
       "1            0            0          0  ...                   0   \n",
       "2            0            0          0  ...                   0   \n",
       "3            0            0          0  ...                   0   \n",
       "4            0            0          0  ...                   0   \n",
       "\n",
       "   SerialNumber_B1054  SerialNumber_B1056  SerialNumber_B1058  \\\n",
       "0                   0                   0                   0   \n",
       "1                   0                   0                   0   \n",
       "2                   0                   0                   0   \n",
       "3                   0                   0                   0   \n",
       "4                   0                   0                   0   \n",
       "\n",
       "   SerialNumber_B1059  SerialNumber_B1060  SerialNumber_B1061  \\\n",
       "0                   0                   0                   0   \n",
       "1                   0                   0                   0   \n",
       "2                   0                   0                   0   \n",
       "3                   0                   0                   0   \n",
       "4                   0                   0                   0   \n",
       "\n",
       "   SerialNumber_B1062  SerialNumber_B1063  SerialNumber_B1067  \n",
       "0                   0                   0                   0  \n",
       "1                   0                   0                   0  \n",
       "2                   0                   0                   0  \n",
       "3                   0                   0                   0  \n",
       "4                   0                   0                   0  \n",
       "\n",
       "[5 rows x 85 columns]"
      ]
     },
     "execution_count": 28,
     "metadata": {},
     "output_type": "execute_result"
    }
   ],
   "source": [
    "engineered_features.head()"
   ]
  },
  {
   "cell_type": "markdown",
   "id": "07b287a0",
   "metadata": {},
   "source": [
    "We use the engineered_features dataframe as the independent or X variables in our model, with the Class feature in the falcon9_df as the dependent or y variable"
   ]
  },
  {
   "cell_type": "code",
   "execution_count": 29,
   "id": "23ba01c1",
   "metadata": {},
   "outputs": [],
   "source": [
    "X = engineered_features\n",
    "Y = falcon9_df['Class'].to_numpy()"
   ]
  },
  {
   "cell_type": "code",
   "execution_count": 129,
   "id": "7d0038a7",
   "metadata": {},
   "outputs": [
    {
     "data": {
      "text/html": [
       "<div>\n",
       "<style scoped>\n",
       "    .dataframe tbody tr th:only-of-type {\n",
       "        vertical-align: middle;\n",
       "    }\n",
       "\n",
       "    .dataframe tbody tr th {\n",
       "        vertical-align: top;\n",
       "    }\n",
       "\n",
       "    .dataframe thead th {\n",
       "        text-align: right;\n",
       "    }\n",
       "</style>\n",
       "<table border=\"1\" class=\"dataframe\">\n",
       "  <thead>\n",
       "    <tr style=\"text-align: right;\">\n",
       "      <th></th>\n",
       "      <th>FlightNumber</th>\n",
       "      <th>Longitude</th>\n",
       "      <th>Latitude</th>\n",
       "      <th>PayloadMass</th>\n",
       "      <th>Block</th>\n",
       "      <th>ReusedCount</th>\n",
       "      <th>Flights</th>\n",
       "      <th>GridFins</th>\n",
       "      <th>Reused</th>\n",
       "      <th>Legs</th>\n",
       "      <th>Class</th>\n",
       "    </tr>\n",
       "  </thead>\n",
       "  <tbody>\n",
       "    <tr>\n",
       "      <th>FlightNumber</th>\n",
       "      <td>1.000000</td>\n",
       "      <td>0.071531</td>\n",
       "      <td>-0.070291</td>\n",
       "      <td>0.581178</td>\n",
       "      <td>0.863198</td>\n",
       "      <td>0.701505</td>\n",
       "      <td>0.688028</td>\n",
       "      <td>0.470174</td>\n",
       "      <td>0.683773</td>\n",
       "      <td>0.422480</td>\n",
       "      <td>0.470138</td>\n",
       "    </tr>\n",
       "    <tr>\n",
       "      <th>Longitude</th>\n",
       "      <td>0.071531</td>\n",
       "      <td>1.000000</td>\n",
       "      <td>-0.999960</td>\n",
       "      <td>0.106180</td>\n",
       "      <td>0.002235</td>\n",
       "      <td>0.060080</td>\n",
       "      <td>0.106038</td>\n",
       "      <td>-0.108111</td>\n",
       "      <td>0.029080</td>\n",
       "      <td>-0.034420</td>\n",
       "      <td>-0.061573</td>\n",
       "    </tr>\n",
       "    <tr>\n",
       "      <th>Latitude</th>\n",
       "      <td>-0.070291</td>\n",
       "      <td>-0.999960</td>\n",
       "      <td>1.000000</td>\n",
       "      <td>-0.105143</td>\n",
       "      <td>-0.000580</td>\n",
       "      <td>-0.059660</td>\n",
       "      <td>-0.105870</td>\n",
       "      <td>0.109007</td>\n",
       "      <td>-0.028709</td>\n",
       "      <td>0.035046</td>\n",
       "      <td>0.063049</td>\n",
       "    </tr>\n",
       "    <tr>\n",
       "      <th>PayloadMass</th>\n",
       "      <td>0.581178</td>\n",
       "      <td>0.106180</td>\n",
       "      <td>-0.105143</td>\n",
       "      <td>1.000000</td>\n",
       "      <td>0.524360</td>\n",
       "      <td>0.687427</td>\n",
       "      <td>0.683032</td>\n",
       "      <td>0.286231</td>\n",
       "      <td>0.533877</td>\n",
       "      <td>0.234365</td>\n",
       "      <td>0.237929</td>\n",
       "    </tr>\n",
       "    <tr>\n",
       "      <th>Block</th>\n",
       "      <td>0.863198</td>\n",
       "      <td>0.002235</td>\n",
       "      <td>-0.000580</td>\n",
       "      <td>0.524360</td>\n",
       "      <td>1.000000</td>\n",
       "      <td>0.678774</td>\n",
       "      <td>0.488566</td>\n",
       "      <td>0.494136</td>\n",
       "      <td>0.606705</td>\n",
       "      <td>0.431334</td>\n",
       "      <td>0.479460</td>\n",
       "    </tr>\n",
       "    <tr>\n",
       "      <th>ReusedCount</th>\n",
       "      <td>0.701505</td>\n",
       "      <td>0.060080</td>\n",
       "      <td>-0.059660</td>\n",
       "      <td>0.687427</td>\n",
       "      <td>0.678774</td>\n",
       "      <td>1.000000</td>\n",
       "      <td>0.724717</td>\n",
       "      <td>0.406620</td>\n",
       "      <td>0.594392</td>\n",
       "      <td>0.385585</td>\n",
       "      <td>0.481191</td>\n",
       "    </tr>\n",
       "    <tr>\n",
       "      <th>Flights</th>\n",
       "      <td>0.688028</td>\n",
       "      <td>0.106038</td>\n",
       "      <td>-0.105870</td>\n",
       "      <td>0.683032</td>\n",
       "      <td>0.488566</td>\n",
       "      <td>0.724717</td>\n",
       "      <td>1.000000</td>\n",
       "      <td>0.253777</td>\n",
       "      <td>0.665494</td>\n",
       "      <td>0.233284</td>\n",
       "      <td>0.254167</td>\n",
       "    </tr>\n",
       "    <tr>\n",
       "      <th>GridFins</th>\n",
       "      <td>0.470174</td>\n",
       "      <td>-0.108111</td>\n",
       "      <td>0.109007</td>\n",
       "      <td>0.286231</td>\n",
       "      <td>0.494136</td>\n",
       "      <td>0.406620</td>\n",
       "      <td>0.253777</td>\n",
       "      <td>1.000000</td>\n",
       "      <td>0.300929</td>\n",
       "      <td>0.908735</td>\n",
       "      <td>0.656281</td>\n",
       "    </tr>\n",
       "    <tr>\n",
       "      <th>Reused</th>\n",
       "      <td>0.683773</td>\n",
       "      <td>0.029080</td>\n",
       "      <td>-0.028709</td>\n",
       "      <td>0.533877</td>\n",
       "      <td>0.606705</td>\n",
       "      <td>0.594392</td>\n",
       "      <td>0.665494</td>\n",
       "      <td>0.300929</td>\n",
       "      <td>1.000000</td>\n",
       "      <td>0.237199</td>\n",
       "      <td>0.290575</td>\n",
       "    </tr>\n",
       "    <tr>\n",
       "      <th>Legs</th>\n",
       "      <td>0.422480</td>\n",
       "      <td>-0.034420</td>\n",
       "      <td>0.035046</td>\n",
       "      <td>0.234365</td>\n",
       "      <td>0.431334</td>\n",
       "      <td>0.385585</td>\n",
       "      <td>0.233284</td>\n",
       "      <td>0.908735</td>\n",
       "      <td>0.237199</td>\n",
       "      <td>1.000000</td>\n",
       "      <td>0.683353</td>\n",
       "    </tr>\n",
       "    <tr>\n",
       "      <th>Class</th>\n",
       "      <td>0.470138</td>\n",
       "      <td>-0.061573</td>\n",
       "      <td>0.063049</td>\n",
       "      <td>0.237929</td>\n",
       "      <td>0.479460</td>\n",
       "      <td>0.481191</td>\n",
       "      <td>0.254167</td>\n",
       "      <td>0.656281</td>\n",
       "      <td>0.290575</td>\n",
       "      <td>0.683353</td>\n",
       "      <td>1.000000</td>\n",
       "    </tr>\n",
       "  </tbody>\n",
       "</table>\n",
       "</div>"
      ],
      "text/plain": [
       "              FlightNumber  Longitude  Latitude  PayloadMass     Block  \\\n",
       "FlightNumber      1.000000   0.071531 -0.070291     0.581178  0.863198   \n",
       "Longitude         0.071531   1.000000 -0.999960     0.106180  0.002235   \n",
       "Latitude         -0.070291  -0.999960  1.000000    -0.105143 -0.000580   \n",
       "PayloadMass       0.581178   0.106180 -0.105143     1.000000  0.524360   \n",
       "Block             0.863198   0.002235 -0.000580     0.524360  1.000000   \n",
       "ReusedCount       0.701505   0.060080 -0.059660     0.687427  0.678774   \n",
       "Flights           0.688028   0.106038 -0.105870     0.683032  0.488566   \n",
       "GridFins          0.470174  -0.108111  0.109007     0.286231  0.494136   \n",
       "Reused            0.683773   0.029080 -0.028709     0.533877  0.606705   \n",
       "Legs              0.422480  -0.034420  0.035046     0.234365  0.431334   \n",
       "Class             0.470138  -0.061573  0.063049     0.237929  0.479460   \n",
       "\n",
       "              ReusedCount   Flights  GridFins    Reused      Legs     Class  \n",
       "FlightNumber     0.701505  0.688028  0.470174  0.683773  0.422480  0.470138  \n",
       "Longitude        0.060080  0.106038 -0.108111  0.029080 -0.034420 -0.061573  \n",
       "Latitude        -0.059660 -0.105870  0.109007 -0.028709  0.035046  0.063049  \n",
       "PayloadMass      0.687427  0.683032  0.286231  0.533877  0.234365  0.237929  \n",
       "Block            0.678774  0.488566  0.494136  0.606705  0.431334  0.479460  \n",
       "ReusedCount      1.000000  0.724717  0.406620  0.594392  0.385585  0.481191  \n",
       "Flights          0.724717  1.000000  0.253777  0.665494  0.233284  0.254167  \n",
       "GridFins         0.406620  0.253777  1.000000  0.300929  0.908735  0.656281  \n",
       "Reused           0.594392  0.665494  0.300929  1.000000  0.237199  0.290575  \n",
       "Legs             0.385585  0.233284  0.908735  0.237199  1.000000  0.683353  \n",
       "Class            0.481191  0.254167  0.656281  0.290575  0.683353  1.000000  "
      ]
     },
     "execution_count": 129,
     "metadata": {},
     "output_type": "execute_result"
    }
   ],
   "source": [
    "falcon9_df.corr()"
   ]
  },
  {
   "cell_type": "markdown",
   "id": "3c09c25d",
   "metadata": {},
   "source": [
    "Splitting the data into train and test sets"
   ]
  },
  {
   "cell_type": "code",
   "execution_count": 30,
   "id": "5d8f3554",
   "metadata": {},
   "outputs": [],
   "source": [
    "X_train, X_test, y_train, y_test = train_test_split(X, Y, test_size=0.2, random_state =2)"
   ]
  },
  {
   "cell_type": "code",
   "execution_count": 31,
   "id": "c13ab7dc",
   "metadata": {},
   "outputs": [],
   "source": [
    "scaler = preprocessing.StandardScaler()\n",
    "X_train = scaler.fit_transform(X_train)\n",
    "X_test = scaler.transform(X_test)"
   ]
  },
  {
   "cell_type": "markdown",
   "id": "71503bcb",
   "metadata": {},
   "source": [
    "Logistic Regression"
   ]
  },
  {
   "cell_type": "code",
   "execution_count": 32,
   "id": "533092c5",
   "metadata": {},
   "outputs": [
    {
     "name": "stdout",
     "output_type": "stream",
     "text": [
      "Accuracy Score: 0.84\n",
      "Model Score 0.84\n"
     ]
    }
   ],
   "source": [
    "lr = LogisticRegression(random_state = 2)\n",
    "\n",
    "lr.fit(X_train, y_train)\n",
    "\n",
    "lr_y_pred = lr.predict(X_test)\n",
    "\n",
    "print(\"Accuracy Score:\",accuracy_score(y_test, lr_y_pred))\n",
    "print(\"Model Score\", lr.score(X_test, y_test))\n"
   ]
  },
  {
   "cell_type": "markdown",
   "id": "a2ef9b7f",
   "metadata": {},
   "source": [
    "Logistic Regression with Hyperparameter tuning with GridSearchCV"
   ]
  },
  {
   "cell_type": "code",
   "execution_count": 33,
   "id": "0b8e8f81",
   "metadata": {},
   "outputs": [
    {
     "data": {
      "text/plain": [
       "GridSearchCV(cv=5, estimator=LogisticRegression(random_state=2),\n",
       "             param_grid={'C': [0.01, 0.1, 1], 'penalty': ['l2'],\n",
       "                         'solver': ['lbfgs']})"
      ]
     },
     "execution_count": 33,
     "metadata": {},
     "output_type": "execute_result"
    }
   ],
   "source": [
    "parameters ={\"C\":[0.01,0.1,1],'penalty':['l2'], 'solver':['lbfgs']}\n",
    "\n",
    "logreg_cv = GridSearchCV(lr, parameters, cv=5)\n",
    "\n",
    "logreg_cv.fit(X_train, y_train)"
   ]
  },
  {
   "cell_type": "code",
   "execution_count": 36,
   "id": "1c6eeb2c",
   "metadata": {},
   "outputs": [],
   "source": [
    "lr_yhat=logreg_cv.predict(X_test)"
   ]
  },
  {
   "cell_type": "code",
   "execution_count": 37,
   "id": "ef6a41d9",
   "metadata": {},
   "outputs": [
    {
     "name": "stdout",
     "output_type": "stream",
     "text": [
      "tuned hpyerparameters :(best parameters)  {'C': 0.1, 'penalty': 'l2', 'solver': 'lbfgs'}\n",
      "accuracy : 0.8852631578947369\n",
      "GridSearch Accuracy Score 0.84\n"
     ]
    }
   ],
   "source": [
    "print(\"tuned hpyerparameters :(best parameters) \",logreg_cv.best_params_)\n",
    "print(\"accuracy :\",logreg_cv.best_score_)\n",
    "print(\"GridSearch Accuracy Score\", accuracy_score(y_test, lr_yhat))"
   ]
  },
  {
   "cell_type": "code",
   "execution_count": 98,
   "id": "e898d575",
   "metadata": {},
   "outputs": [],
   "source": [
    "lr_yhat=logreg_cv.predict(X_test)\n"
   ]
  },
  {
   "cell_type": "code",
   "execution_count": 46,
   "id": "34196199",
   "metadata": {},
   "outputs": [
    {
     "name": "stdout",
     "output_type": "stream",
     "text": [
      "              precision    recall  f1-score   support\n",
      "\n",
      "           0       0.88      0.70      0.78        10\n",
      "           1       0.82      0.93      0.87        15\n",
      "\n",
      "    accuracy                           0.84        25\n",
      "   macro avg       0.85      0.82      0.83        25\n",
      "weighted avg       0.84      0.84      0.84        25\n",
      "\n"
     ]
    }
   ],
   "source": [
    " print(classification_report(y_test, lr_y_pred))"
   ]
  },
  {
   "cell_type": "code",
   "execution_count": 47,
   "id": "8675d5e3",
   "metadata": {},
   "outputs": [
    {
     "name": "stdout",
     "output_type": "stream",
     "text": [
      "              precision    recall  f1-score   support\n",
      "\n",
      "           0       0.88      0.70      0.78        10\n",
      "           1       0.82      0.93      0.87        15\n",
      "\n",
      "    accuracy                           0.84        25\n",
      "   macro avg       0.85      0.82      0.83        25\n",
      "weighted avg       0.84      0.84      0.84        25\n",
      "\n"
     ]
    }
   ],
   "source": [
    "print(classification_report(y_test, lr_yhat))"
   ]
  },
  {
   "cell_type": "code",
   "execution_count": 48,
   "id": "57d567f8",
   "metadata": {},
   "outputs": [
    {
     "data": {
      "text/plain": [
       "<AxesSubplot:title={'center':'Confusion Matrix'}, xlabel='Predicted label', ylabel='True label'>"
      ]
     },
     "execution_count": 48,
     "metadata": {},
     "output_type": "execute_result"
    },
    {
     "data": {
      "image/png": "[encoded data removed]",
      "text/plain": [
       "<Figure size 432x288 with 2 Axes>"
      ]
     },
     "metadata": {
      "needs_background": "light"
     },
     "output_type": "display_data"
    }
   ],
   "source": [
    "skplt.metrics.plot_confusion_matrix(y_test, lr_y_pred)"
   ]
  },
  {
   "cell_type": "code",
   "execution_count": 50,
   "id": "60d15349",
   "metadata": {},
   "outputs": [
    {
     "data": {
      "text/plain": [
       "<AxesSubplot:title={'center':'Confusion Matrix'}, xlabel='Predicted label', ylabel='True label'>"
      ]
     },
     "execution_count": 50,
     "metadata": {},
     "output_type": "execute_result"
    },
    {
     "data": {
      "image/png": "[encoded data removed]",
      "text/plain": [
       "<Figure size 432x288 with 2 Axes>"
      ]
     },
     "metadata": {
      "needs_background": "light"
     },
     "output_type": "display_data"
    }
   ],
   "source": [
    "skplt.metrics.plot_confusion_matrix(y_test, lr_yhat)"
   ]
  },
  {
   "cell_type": "markdown",
   "id": "0bce560a",
   "metadata": {},
   "source": [
    "Support Vector Machine"
   ]
  },
  {
   "cell_type": "code",
   "execution_count": 51,
   "id": "ebb1e5fa",
   "metadata": {},
   "outputs": [],
   "source": [
    "svm = SVC()\n",
    "\n",
    "svm.fit(X_train, y_train)\n",
    "\n",
    "svm_y_pred = svm.predict(X_test)"
   ]
  },
  {
   "cell_type": "code",
   "execution_count": 52,
   "id": "0b5e485d",
   "metadata": {},
   "outputs": [
    {
     "name": "stdout",
     "output_type": "stream",
     "text": [
      "Accuracy Score: 0.64\n",
      "Model Score 0.64\n"
     ]
    }
   ],
   "source": [
    "print(\"Accuracy Score:\",accuracy_score(y_test, svm_y_pred))\n",
    "print(\"Model Score\", svm.score(X_test, y_test))\n"
   ]
  },
  {
   "cell_type": "code",
   "execution_count": 53,
   "id": "d1ed2bce",
   "metadata": {},
   "outputs": [
    {
     "data": {
      "text/plain": [
       "<AxesSubplot:title={'center':'Confusion Matrix'}, xlabel='Predicted label', ylabel='True label'>"
      ]
     },
     "execution_count": 53,
     "metadata": {},
     "output_type": "execute_result"
    },
    {
     "data": {
      "image/png": "[encoded data removed]",
      "text/plain": [
       "<Figure size 432x288 with 2 Axes>"
      ]
     },
     "metadata": {
      "needs_background": "light"
     },
     "output_type": "display_data"
    }
   ],
   "source": [
    "skplt.metrics.plot_confusion_matrix(y_test, svm_y_pred)"
   ]
  },
  {
   "cell_type": "code",
   "execution_count": 54,
   "id": "46c3f4a9",
   "metadata": {},
   "outputs": [
    {
     "name": "stdout",
     "output_type": "stream",
     "text": [
      "              precision    recall  f1-score   support\n",
      "\n",
      "           0       0.60      0.30      0.40        10\n",
      "           1       0.65      0.87      0.74        15\n",
      "\n",
      "    accuracy                           0.64        25\n",
      "   macro avg       0.62      0.58      0.57        25\n",
      "weighted avg       0.63      0.64      0.61        25\n",
      "\n"
     ]
    }
   ],
   "source": [
    "print(classification_report(y_test, svm_y_pred))"
   ]
  },
  {
   "cell_type": "markdown",
   "id": "4599fdd0",
   "metadata": {},
   "source": [
    "SVM with GridSearchCV and Hyperparameter Tuning"
   ]
  },
  {
   "cell_type": "code",
   "execution_count": 55,
   "id": "dfbce628",
   "metadata": {},
   "outputs": [
    {
     "data": {
      "text/plain": [
       "GridSearchCV(cv=10, estimator=SVC(),\n",
       "             param_grid={'C': array([1.00000000e-03, 3.16227766e-02, 1.00000000e+00, 3.16227766e+01,\n",
       "       1.00000000e+03]),\n",
       "                         'gamma': array([1.00000000e-03, 3.16227766e-02, 1.00000000e+00, 3.16227766e+01,\n",
       "       1.00000000e+03]),\n",
       "                         'kernel': ('linear', 'rbf', 'poly', 'rbf', 'sigmoid')})"
      ]
     },
     "execution_count": 55,
     "metadata": {},
     "output_type": "execute_result"
    }
   ],
   "source": [
    "svm_parameters = {'kernel':('linear', 'rbf','poly','rbf', 'sigmoid'),\n",
    "              'C': np.logspace(-3, 3, 5),\n",
    "              'gamma':np.logspace(-3, 3, 5)}\n",
    "\n",
    "svm_cv = GridSearchCV(svm, svm_parameters, cv=10)\n",
    "svm_cv.fit(X_train, y_train)"
   ]
  },
  {
   "cell_type": "code",
   "execution_count": 56,
   "id": "84ce2cdd",
   "metadata": {},
   "outputs": [
    {
     "name": "stdout",
     "output_type": "stream",
     "text": [
      "tuned hpyerparameters :(best parameters)  {'C': 1.0, 'gamma': 0.03162277660168379, 'kernel': 'sigmoid'}\n",
      "accuracy : 0.8855555555555557\n"
     ]
    }
   ],
   "source": [
    "print(\"tuned hpyerparameters :(best parameters) \",svm_cv.best_params_)\n",
    "print(\"accuracy :\",svm_cv.best_score_)"
   ]
  },
  {
   "cell_type": "code",
   "execution_count": 57,
   "id": "8727d9b3",
   "metadata": {},
   "outputs": [
    {
     "data": {
      "text/plain": [
       "0.88"
      ]
     },
     "execution_count": 57,
     "metadata": {},
     "output_type": "execute_result"
    }
   ],
   "source": [
    "svm_cv.score(X_test, y_test)"
   ]
  },
  {
   "cell_type": "code",
   "execution_count": 58,
   "id": "bf4c92ef",
   "metadata": {},
   "outputs": [],
   "source": [
    "svm_yhat=svm_cv.predict(X_test)"
   ]
  },
  {
   "cell_type": "code",
   "execution_count": 59,
   "id": "a8eddf88",
   "metadata": {},
   "outputs": [
    {
     "data": {
      "text/plain": [
       "<AxesSubplot:title={'center':'Confusion Matrix'}, xlabel='Predicted label', ylabel='True label'>"
      ]
     },
     "execution_count": 59,
     "metadata": {},
     "output_type": "execute_result"
    },
    {
     "data": {
      "image/png": "[encoded data removed]",
      "text/plain": [
       "<Figure size 432x288 with 2 Axes>"
      ]
     },
     "metadata": {
      "needs_background": "light"
     },
     "output_type": "display_data"
    }
   ],
   "source": [
    "skplt.metrics.plot_confusion_matrix(y_test, svm_yhat)"
   ]
  },
  {
   "cell_type": "code",
   "execution_count": 60,
   "id": "6e365269",
   "metadata": {},
   "outputs": [
    {
     "name": "stdout",
     "output_type": "stream",
     "text": [
      "              precision    recall  f1-score   support\n",
      "\n",
      "           0       1.00      0.70      0.82        10\n",
      "           1       0.83      1.00      0.91        15\n",
      "\n",
      "    accuracy                           0.88        25\n",
      "   macro avg       0.92      0.85      0.87        25\n",
      "weighted avg       0.90      0.88      0.87        25\n",
      "\n"
     ]
    }
   ],
   "source": [
    "print(classification_report(y_test, svm_yhat))"
   ]
  },
  {
   "cell_type": "markdown",
   "id": "5d1e9b5f",
   "metadata": {},
   "source": [
    "Decision Tree Classifier"
   ]
  },
  {
   "cell_type": "code",
   "execution_count": 61,
   "id": "825f9266",
   "metadata": {},
   "outputs": [],
   "source": [
    "dt = DecisionTreeClassifier()\n",
    "\n",
    "dt.fit(X_train, y_train)\n",
    "\n",
    "dt_y_pred = dt.predict(X_test)"
   ]
  },
  {
   "cell_type": "code",
   "execution_count": 62,
   "id": "3ba167e8",
   "metadata": {},
   "outputs": [
    {
     "name": "stdout",
     "output_type": "stream",
     "text": [
      "Accuracy Score: 0.76\n",
      "Model Score 0.76\n"
     ]
    }
   ],
   "source": [
    "print(\"Accuracy Score:\",accuracy_score(y_test, dt_y_pred))\n",
    "print(\"Model Score\", dt.score(X_test, y_test))"
   ]
  },
  {
   "cell_type": "markdown",
   "id": "f95007ab",
   "metadata": {},
   "source": [
    "Decision Tree Classifier with Hyperparameter Tuning"
   ]
  },
  {
   "cell_type": "code",
   "execution_count": 63,
   "id": "2ca02eca",
   "metadata": {},
   "outputs": [
    {
     "data": {
      "text/plain": [
       "GridSearchCV(cv=10, estimator=DecisionTreeClassifier(),\n",
       "             param_grid={'criterion': ['gini', 'entropy'],\n",
       "                         'max_depth': [2, 4, 6, 8, 10, 12, 14, 16, 18],\n",
       "                         'max_features': ['auto', 'sqrt'],\n",
       "                         'min_samples_leaf': [1, 2, 4],\n",
       "                         'min_samples_split': [2, 5, 10],\n",
       "                         'splitter': ['best', 'random']})"
      ]
     },
     "execution_count": 63,
     "metadata": {},
     "output_type": "execute_result"
    }
   ],
   "source": [
    "dt_parameters = {'criterion': ['gini', 'entropy'],\n",
    "     'splitter': ['best', 'random'],\n",
    "     'max_depth': [2*n for n in range(1,10)],\n",
    "     'max_features': ['auto', 'sqrt'],\n",
    "     'min_samples_leaf': [1, 2, 4],\n",
    "     'min_samples_split': [2, 5, 10]}\n",
    "\n",
    "dt_cv = GridSearchCV(dt, dt_parameters, cv=10)\n",
    "dt_cv.fit(X_train, y_train)"
   ]
  },
  {
   "cell_type": "code",
   "execution_count": 64,
   "id": "8b6e0e98",
   "metadata": {},
   "outputs": [
    {
     "name": "stdout",
     "output_type": "stream",
     "text": [
      "tuned hpyerparameters :(best parameters)  {'criterion': 'gini', 'max_depth': 18, 'max_features': 'sqrt', 'min_samples_leaf': 2, 'min_samples_split': 2, 'splitter': 'best'}\n",
      "accuracy : 0.9077777777777778\n"
     ]
    }
   ],
   "source": [
    "print(\"tuned hpyerparameters :(best parameters) \",dt_cv.best_params_)\n",
    "print(\"accuracy :\",dt_cv.best_score_)"
   ]
  },
  {
   "cell_type": "code",
   "execution_count": 65,
   "id": "17b9f006",
   "metadata": {},
   "outputs": [
    {
     "data": {
      "text/plain": [
       "<AxesSubplot:title={'center':'Confusion Matrix'}, xlabel='Predicted label', ylabel='True label'>"
      ]
     },
     "execution_count": 65,
     "metadata": {},
     "output_type": "execute_result"
    },
    {
     "data": {
      "image/png": "[encoded data removed]",
      "text/plain": [
       "<Figure size 432x288 with 2 Axes>"
      ]
     },
     "metadata": {
      "needs_background": "light"
     },
     "output_type": "display_data"
    }
   ],
   "source": [
    "dt_yhat = svm_cv.predict(X_test)\n",
    "skplt.metrics.plot_confusion_matrix(y_test, dt_yhat)"
   ]
  },
  {
   "cell_type": "code",
   "execution_count": 66,
   "id": "9fd00d90",
   "metadata": {},
   "outputs": [
    {
     "name": "stdout",
     "output_type": "stream",
     "text": [
      "              precision    recall  f1-score   support\n",
      "\n",
      "           0       1.00      0.70      0.82        10\n",
      "           1       0.83      1.00      0.91        15\n",
      "\n",
      "    accuracy                           0.88        25\n",
      "   macro avg       0.92      0.85      0.87        25\n",
      "weighted avg       0.90      0.88      0.87        25\n",
      "\n"
     ]
    }
   ],
   "source": [
    "print(classification_report(y_test, dt_yhat))"
   ]
  },
  {
   "cell_type": "markdown",
   "id": "2f733b07",
   "metadata": {},
   "source": [
    "KNN model"
   ]
  },
  {
   "cell_type": "code",
   "execution_count": 67,
   "id": "feb12384",
   "metadata": {},
   "outputs": [],
   "source": [
    "knn = KNeighborsClassifier()\n",
    "\n",
    "knn.fit(X_train, y_train)\n",
    "\n",
    "knn_y_pred = knn.predict(X_test)"
   ]
  },
  {
   "cell_type": "code",
   "execution_count": 68,
   "id": "13aaff8f",
   "metadata": {},
   "outputs": [
    {
     "name": "stdout",
     "output_type": "stream",
     "text": [
      "Accuracy Score: 0.6\n"
     ]
    }
   ],
   "source": [
    "print(\"Accuracy Score:\",accuracy_score(y_test, knn_y_pred))"
   ]
  },
  {
   "cell_type": "markdown",
   "id": "8e6e0e4d",
   "metadata": {},
   "source": [
    "KNN with Hyperparameter Tuning"
   ]
  },
  {
   "cell_type": "code",
   "execution_count": 69,
   "id": "2913cf30",
   "metadata": {},
   "outputs": [
    {
     "data": {
      "text/plain": [
       "GridSearchCV(cv=10, estimator=KNeighborsClassifier(),\n",
       "             param_grid={'algorithm': ['auto', 'ball_tree', 'kd_tree', 'brute'],\n",
       "                         'n_neighbors': [1, 2, 3, 4, 5, 6, 7, 8, 9, 10],\n",
       "                         'p': [1, 2]})"
      ]
     },
     "execution_count": 69,
     "metadata": {},
     "output_type": "execute_result"
    }
   ],
   "source": [
    "knn_parameters = {'n_neighbors': [1, 2, 3, 4, 5, 6, 7, 8, 9, 10],\n",
    "              'algorithm': ['auto', 'ball_tree', 'kd_tree', 'brute'],\n",
    "              'p': [1,2]}\n",
    "\n",
    "knn_cv = GridSearchCV(knn, knn_parameters, cv=10)\n",
    "knn_cv.fit(X_train, y_train)"
   ]
  },
  {
   "cell_type": "code",
   "execution_count": 70,
   "id": "e1f53d5a",
   "metadata": {},
   "outputs": [
    {
     "name": "stdout",
     "output_type": "stream",
     "text": [
      "tuned hpyerparameters :(best parameters)  {'algorithm': 'auto', 'n_neighbors': 5, 'p': 1}\n",
      "accuracy : 0.8733333333333334\n"
     ]
    }
   ],
   "source": [
    "print(\"tuned hpyerparameters :(best parameters) \",knn_cv.best_params_)\n",
    "print(\"accuracy :\",knn_cv.best_score_)"
   ]
  },
  {
   "cell_type": "code",
   "execution_count": 71,
   "id": "4e5b4590",
   "metadata": {},
   "outputs": [
    {
     "data": {
      "text/plain": [
       "<AxesSubplot:title={'center':'Confusion Matrix'}, xlabel='Predicted label', ylabel='True label'>"
      ]
     },
     "execution_count": 71,
     "metadata": {},
     "output_type": "execute_result"
    },
    {
     "data": {
      "image/png": "[encoded data removed]",
      "text/plain": [
       "<Figure size 432x288 with 2 Axes>"
      ]
     },
     "metadata": {
      "needs_background": "light"
     },
     "output_type": "display_data"
    }
   ],
   "source": [
    "knn_yhat = knn_cv.predict(X_test)\n",
    "skplt.metrics.plot_confusion_matrix(y_test, knn_yhat)"
   ]
  },
  {
   "cell_type": "code",
   "execution_count": 106,
   "id": "e18b8261",
   "metadata": {},
   "outputs": [
    {
     "name": "stdout",
     "output_type": "stream",
     "text": [
      "              precision    recall  f1-score   support\n",
      "\n",
      "           0       1.00      0.40      0.57        10\n",
      "           1       0.71      1.00      0.83        15\n",
      "\n",
      "    accuracy                           0.76        25\n",
      "   macro avg       0.86      0.70      0.70        25\n",
      "weighted avg       0.83      0.76      0.73        25\n",
      "\n"
     ]
    }
   ],
   "source": [
    "print(classification_report(y_test, knn_yhat))"
   ]
  },
  {
   "cell_type": "markdown",
   "id": "b4f9f89a",
   "metadata": {},
   "source": [
    "Random Forest Classifier"
   ]
  },
  {
   "cell_type": "code",
   "execution_count": 9,
   "id": "e3e82ed5",
   "metadata": {},
   "outputs": [],
   "source": [
    "rf = RandomForestClassifier()\n",
    "\n",
    "rf.fit(X_train, y_train)\n",
    "\n",
    "rf_y_pred = rf.predict(X_test)"
   ]
  },
  {
   "cell_type": "code",
   "execution_count": 10,
   "id": "4beb8aec",
   "metadata": {},
   "outputs": [
    {
     "name": "stdout",
     "output_type": "stream",
     "text": [
      "Accuracy Score: 0.88\n"
     ]
    }
   ],
   "source": [
    "print(\"Accuracy Score:\",accuracy_score(y_test, rf_y_pred))"
   ]
  },
  {
   "cell_type": "markdown",
   "id": "6506b413",
   "metadata": {},
   "source": [
    "Random Forest Classifier with hyperparameter tuning"
   ]
  },
  {
   "cell_type": "code",
   "execution_count": 11,
   "id": "8254ad2e",
   "metadata": {},
   "outputs": [
    {
     "data": {
      "text/plain": [
       "GridSearchCV(cv=10, estimator=RandomForestClassifier(),\n",
       "             param_grid={'bootstrap': [True], 'max_depth': [80, 90, 100, 110],\n",
       "                         'max_features': [2, 3], 'min_samples_leaf': [3, 4, 5],\n",
       "                         'min_samples_split': [8, 10, 12],\n",
       "                         'n_estimators': [100, 200, 300, 1000]})"
      ]
     },
     "execution_count": 11,
     "metadata": {},
     "output_type": "execute_result"
    }
   ],
   "source": [
    "rf_parameters = {\n",
    "    'bootstrap': [True],\n",
    "    'max_depth': [80, 90, 100, 110],\n",
    "    'max_features': [2, 3],\n",
    "    'min_samples_leaf': [3, 4, 5],\n",
    "    'min_samples_split': [8, 10, 12],\n",
    "    'n_estimators': [100, 200, 300, 1000]\n",
    "}\n",
    "\n",
    "rf_cv = GridSearchCV(rf, rf_parameters, cv=10)\n",
    "rf_cv.fit(X_train, y_train)"
   ]
  },
  {
   "cell_type": "code",
   "execution_count": 12,
   "id": "8c9a688c",
   "metadata": {},
   "outputs": [
    {
     "name": "stdout",
     "output_type": "stream",
     "text": [
      "tuned hpyerparameters :(best parameters)  {'bootstrap': True, 'max_depth': 80, 'max_features': 2, 'min_samples_leaf': 3, 'min_samples_split': 8, 'n_estimators': 100}\n",
      "accuracy : 0.7811111111111111\n"
     ]
    }
   ],
   "source": [
    "print(\"tuned hpyerparameters :(best parameters) \",rf_cv.best_params_)\n",
    "print(\"accuracy :\",rf_cv.best_score_)"
   ]
  },
  {
   "cell_type": "code",
   "execution_count": 87,
   "id": "e440c254",
   "metadata": {},
   "outputs": [],
   "source": [
    "rf_yhat = rf_cv.predict(X_test)"
   ]
  },
  {
   "cell_type": "code",
   "execution_count": 95,
   "id": "9e887d14",
   "metadata": {},
   "outputs": [
    {
     "data": {
      "text/plain": [
       "<AxesSubplot:title={'center':'Confusion Matrix'}, xlabel='Predicted label', ylabel='True label'>"
      ]
     },
     "execution_count": 95,
     "metadata": {},
     "output_type": "execute_result"
    },
    {
     "data": {
      "image/png": "[encoded data removed]",
      "text/plain": [
       "<Figure size 432x288 with 2 Axes>"
      ]
     },
     "metadata": {
      "needs_background": "light"
     },
     "output_type": "display_data"
    }
   ],
   "source": [
    "skplt.metrics.plot_confusion_matrix(y_test, rf_y_pred)"
   ]
  },
  {
   "cell_type": "code",
   "execution_count": 96,
   "id": "41760e73",
   "metadata": {},
   "outputs": [
    {
     "name": "stdout",
     "output_type": "stream",
     "text": [
      "              precision    recall  f1-score   support\n",
      "\n",
      "           0       1.00      0.70      0.82        10\n",
      "           1       0.83      1.00      0.91        15\n",
      "\n",
      "    accuracy                           0.88        25\n",
      "   macro avg       0.92      0.85      0.87        25\n",
      "weighted avg       0.90      0.88      0.87        25\n",
      "\n"
     ]
    }
   ],
   "source": [
    "print(classification_report(y_test, rf_y_pred))"
   ]
  },
  {
   "cell_type": "markdown",
   "id": "c77373a5",
   "metadata": {},
   "source": [
    "Basline Model Scores"
   ]
  },
  {
   "cell_type": "code",
   "execution_count": 171,
   "id": "c652aab4",
   "metadata": {},
   "outputs": [],
   "source": [
    "# Create a dictionary of models to use\n",
    "\n",
    "models = {'Logistic Regression': LogisticRegression(),\n",
    "         'Support Vector Machines': SVC(),\n",
    "         'Decision Trees': DecisionTreeClassifier(),\n",
    "         'KNN': KNeighborsClassifier(),\n",
    "         'Random Forest': RandomForestClassifier()}\n",
    "\n",
    "\n",
    "def fit_and_score(models, X_train, X_test, y_train, y_test):\n",
    "    \"\"\"\n",
    "    Fits and trains models and returns the scores for each model\n",
    "    models: a dict of machine learning models\n",
    "    X_train: training data (no labels)\n",
    "    X_test: testing data (no labels)\n",
    "    y_train: training labels\n",
    "    y_test: testing labels\n",
    "    \"\"\"\n",
    "    # Set random seed\n",
    "    np.random.seed(2)\n",
    "    \n",
    "    # make a dictionary to store the model scores\n",
    "    model_scores = {}\n",
    "    # Loop through models\n",
    "    for name, model in models.items():\n",
    "        model.fit(X_train, y_train)\n",
    "        # evaluate the model and append the score to model_scores\n",
    "        model_scores[name] = model.score(X_test, y_test)\n",
    "        \n",
    "    return model_scores\n",
    "        "
   ]
  },
  {
   "cell_type": "code",
   "execution_count": 172,
   "id": "810f162d",
   "metadata": {},
   "outputs": [
    {
     "data": {
      "text/plain": [
       "{'Logistic Regression': 0.84,\n",
       " 'Support Vector Machines': 0.64,\n",
       " 'Decision Trees': 0.76,\n",
       " 'KNN': 0.6,\n",
       " 'Random Forest': 0.88}"
      ]
     },
     "execution_count": 172,
     "metadata": {},
     "output_type": "execute_result"
    }
   ],
   "source": [
    "model_scores = fit_and_score(models, X_train, X_test, y_train, y_test)\n",
    "model_scores"
   ]
  },
  {
   "cell_type": "code",
   "execution_count": 173,
   "id": "433210b3",
   "metadata": {},
   "outputs": [
    {
     "data": {
      "text/plain": [
       "<AxesSubplot:ylabel='Score'>"
      ]
     },
     "execution_count": 173,
     "metadata": {},
     "output_type": "execute_result"
    },
    {
     "data": {
      "image/png": "[encoded data removed]",
      "text/plain": [
       "<Figure size 1080x576 with 1 Axes>"
      ]
     },
     "metadata": {
      "needs_background": "light"
     },
     "output_type": "display_data"
    }
   ],
   "source": [
    "model_comparision = pd.DataFrame(model_scores, index = ['accuracy'])\n",
    "model_comparision.T.plot(kind='bar', figsize=(15,8), ylabel='Score')"
   ]
  },
  {
   "cell_type": "code",
   "execution_count": null,
   "id": "75c9a195",
   "metadata": {},
   "outputs": [],
   "source": []
  },
  {
   "cell_type": "code",
   "execution_count": null,
   "id": "f258aff1",
   "metadata": {},
   "outputs": [],
   "source": []
  },
  {
   "cell_type": "markdown",
   "id": "9b179246",
   "metadata": {},
   "source": [
    "Plotting AUC-ROC curves"
   ]
  },
  {
   "cell_type": "code",
   "execution_count": 75,
   "id": "0e22493f",
   "metadata": {},
   "outputs": [
    {
     "data": {
      "text/plain": [
       "<sklearn.metrics._plot.roc_curve.RocCurveDisplay at 0x1e0207169d0>"
      ]
     },
     "execution_count": 75,
     "metadata": {},
     "output_type": "execute_result"
    },
    {
     "data": {
      "image/png": "[encoded data removed]",
      "text/plain": [
       "<Figure size 432x288 with 1 Axes>"
      ]
     },
     "metadata": {
      "needs_background": "light"
     },
     "output_type": "display_data"
    }
   ],
   "source": [
    "plot_roc_curve(logreg_cv, X_test, y_test)"
   ]
  },
  {
   "cell_type": "code",
   "execution_count": 76,
   "id": "beafccf7",
   "metadata": {},
   "outputs": [
    {
     "data": {
      "text/plain": [
       "<sklearn.metrics._plot.roc_curve.RocCurveDisplay at 0x1e02018d5e0>"
      ]
     },
     "execution_count": 76,
     "metadata": {},
     "output_type": "execute_result"
    },
    {
     "data": {
      "image/png": "[encoded data removed]",
      "text/plain": [
       "<Figure size 432x288 with 1 Axes>"
      ]
     },
     "metadata": {
      "needs_background": "light"
     },
     "output_type": "display_data"
    }
   ],
   "source": [
    "plot_roc_curve(svm_cv, X_test, y_test)"
   ]
  },
  {
   "cell_type": "code",
   "execution_count": 77,
   "id": "3ee33fc3",
   "metadata": {},
   "outputs": [
    {
     "data": {
      "text/plain": [
       "<sklearn.metrics._plot.roc_curve.RocCurveDisplay at 0x1e020748dc0>"
      ]
     },
     "execution_count": 77,
     "metadata": {},
     "output_type": "execute_result"
    },
    {
     "data": {
      "image/png": "[encoded data removed]",
      "text/plain": [
       "<Figure size 432x288 with 1 Axes>"
      ]
     },
     "metadata": {
      "needs_background": "light"
     },
     "output_type": "display_data"
    }
   ],
   "source": [
    "plot_roc_curve(knn_cv, X_test, y_test)"
   ]
  },
  {
   "cell_type": "code",
   "execution_count": 78,
   "id": "8a2c261c",
   "metadata": {},
   "outputs": [
    {
     "data": {
      "text/plain": [
       "<sklearn.metrics._plot.roc_curve.RocCurveDisplay at 0x1e020cc8dc0>"
      ]
     },
     "execution_count": 78,
     "metadata": {},
     "output_type": "execute_result"
    },
    {
     "data": {
      "image/png": "[encoded data removed]",
      "text/plain": [
       "<Figure size 432x288 with 1 Axes>"
      ]
     },
     "metadata": {
      "needs_background": "light"
     },
     "output_type": "display_data"
    }
   ],
   "source": [
    "plot_roc_curve(dt_cv, X_test, y_test)"
   ]
  },
  {
   "cell_type": "code",
   "execution_count": 79,
   "id": "2d739ebf",
   "metadata": {},
   "outputs": [
    {
     "data": {
      "text/plain": [
       "<sklearn.metrics._plot.roc_curve.RocCurveDisplay at 0x1e020801b50>"
      ]
     },
     "execution_count": 79,
     "metadata": {},
     "output_type": "execute_result"
    },
    {
     "data": {
      "image/png": "[encoded data removed]",
      "text/plain": [
       "<Figure size 432x288 with 1 Axes>"
      ]
     },
     "metadata": {
      "needs_background": "light"
     },
     "output_type": "display_data"
    }
   ],
   "source": [
    "plot_roc_curve(rf_cv, X_test, y_test)"
   ]
  },
  {
   "cell_type": "markdown",
   "id": "7661e600",
   "metadata": {},
   "source": [
    "Cross Validation Scores for the models"
   ]
  },
  {
   "cell_type": "code",
   "execution_count": 83,
   "id": "2f95b315",
   "metadata": {},
   "outputs": [],
   "source": [
    "svm_cross_val_score = cross_val_score(svm_cv, X_train, y_train, cv=5)"
   ]
  },
  {
   "cell_type": "code",
   "execution_count": 84,
   "id": "c52d8496",
   "metadata": {},
   "outputs": [
    {
     "data": {
      "text/plain": [
       "0.8852631578947369"
      ]
     },
     "execution_count": 84,
     "metadata": {},
     "output_type": "execute_result"
    }
   ],
   "source": [
    "np.mean(svm_cross_val_score)"
   ]
  },
  {
   "cell_type": "code",
   "execution_count": 120,
   "id": "0c2bba96",
   "metadata": {},
   "outputs": [],
   "source": [
    "logreg_cross_val_score = cross_val_score(logreg_cv, X_train, y_train, cv=5)"
   ]
  },
  {
   "cell_type": "code",
   "execution_count": 121,
   "id": "69c415b7",
   "metadata": {},
   "outputs": [
    {
     "data": {
      "text/plain": [
       "0.8852631578947369"
      ]
     },
     "execution_count": 121,
     "metadata": {},
     "output_type": "execute_result"
    }
   ],
   "source": [
    "np.mean(logreg_cross_val_score)"
   ]
  },
  {
   "cell_type": "code",
   "execution_count": 123,
   "id": "ec41d32a",
   "metadata": {},
   "outputs": [],
   "source": [
    "rf_cross_val_score = cross_val_score(rf_cv, X_train, y_train, cv=5)"
   ]
  },
  {
   "cell_type": "code",
   "execution_count": 124,
   "id": "e1d5138c",
   "metadata": {},
   "outputs": [
    {
     "data": {
      "text/plain": [
       "0.781578947368421"
      ]
     },
     "execution_count": 124,
     "metadata": {},
     "output_type": "execute_result"
    }
   ],
   "source": [
    "np.mean(rf_cross_val_score)"
   ]
  },
  {
   "cell_type": "code",
   "execution_count": 136,
   "id": "0ca96337",
   "metadata": {},
   "outputs": [],
   "source": [
    "dt_cross_val_score = cross_val_score(dt_cv, X_train, y_train, cv=5)"
   ]
  },
  {
   "cell_type": "code",
   "execution_count": 137,
   "id": "c89221ce",
   "metadata": {},
   "outputs": [
    {
     "data": {
      "text/plain": [
       "0.8757894736842106"
      ]
     },
     "execution_count": 137,
     "metadata": {},
     "output_type": "execute_result"
    }
   ],
   "source": [
    "np.mean(dt_cross_val_score)"
   ]
  },
  {
   "cell_type": "code",
   "execution_count": 125,
   "id": "a2126483",
   "metadata": {},
   "outputs": [],
   "source": [
    "feature_names = X.columns"
   ]
  },
  {
   "cell_type": "code",
   "execution_count": 127,
   "id": "0b46da15",
   "metadata": {},
   "outputs": [
    {
     "data": {
      "text/plain": [
       "<AxesSubplot:title={'center':'Feature Importance'}>"
      ]
     },
     "execution_count": 127,
     "metadata": {},
     "output_type": "execute_result"
    },
    {
     "data": {
      "image/png": "[encoded data removed]",
      "text/plain": [
       "<Figure size 1080x720 with 1 Axes>"
      ]
     },
     "metadata": {
      "needs_background": "light"
     },
     "output_type": "display_data"
    }
   ],
   "source": [
    "skplt.estimators.plot_feature_importances(rf, feature_names=feature_names, figsize=(15, 10), x_tick_rotation=90)"
   ]
  },
  {
   "cell_type": "markdown",
   "id": "bd2a6fd0",
   "metadata": {},
   "source": [
    "Model Scores after GridSearchCV and Hyperparameter Tuning"
   ]
  },
  {
   "cell_type": "code",
   "execution_count": 167,
   "id": "957afc65",
   "metadata": {},
   "outputs": [],
   "source": [
    "gs_models = {'Logistic Regression': logreg_cv,\n",
    "         'Support Vector Machines': svm_cv,\n",
    "         'Decision Trees': dt_cv,\n",
    "         'KNN': knn_cv,\n",
    "         'Random Forest': rf_cv}\n",
    "\n",
    "def get_gs_best_scores(models):\n",
    "    gs_model_scores = {}\n",
    "    best_params = {}\n",
    "    for name, model in models.items():\n",
    "        gs_model_scores[name] = model.best_score_\n",
    "        best_params[name] = model.best_params_\n",
    "        \n",
    "    return gs_model_scores\n",
    "        \n",
    "        "
   ]
  },
  {
   "cell_type": "code",
   "execution_count": 168,
   "id": "6da45eec",
   "metadata": {},
   "outputs": [
    {
     "data": {
      "text/plain": [
       "{'Logistic Regression': 0.8852631578947369,\n",
       " 'Support Vector Machines': 0.8855555555555557,\n",
       " 'Decision Trees': 0.9077777777777778,\n",
       " 'KNN': 0.8733333333333334,\n",
       " 'Random Forest': 0.7811111111111111}"
      ]
     },
     "execution_count": 168,
     "metadata": {},
     "output_type": "execute_result"
    }
   ],
   "source": [
    "get_gs_best_scores(gs_models)"
   ]
  },
  {
   "cell_type": "code",
   "execution_count": 169,
   "id": "842cd10e",
   "metadata": {},
   "outputs": [],
   "source": [
    "gs_model_scores = get_gs_best_scores(gs_models)"
   ]
  },
  {
   "cell_type": "code",
   "execution_count": 170,
   "id": "a9a60e14",
   "metadata": {},
   "outputs": [
    {
     "data": {
      "text/plain": [
       "<AxesSubplot:ylabel='Best Score'>"
      ]
     },
     "execution_count": 170,
     "metadata": {},
     "output_type": "execute_result"
    },
    {
     "data": {
      "image/png": "[encoded data removed]",
      "text/plain": [
       "<Figure size 1080x576 with 1 Axes>"
      ]
     },
     "metadata": {
      "needs_background": "light"
     },
     "output_type": "display_data"
    }
   ],
   "source": [
    "gs_model_comparision = pd.DataFrame(gs_model_scores, index=['accuracy'])\n",
    "gs_model_comparision.T.plot(kind='bar', figsize=(15,8), ylabel='Best Score')"
   ]
  },
  {
   "cell_type": "code",
   "execution_count": null,
   "id": "76cf8cf3",
   "metadata": {},
   "outputs": [],
   "source": []
  }
 ],
 "metadata": {
  "kernelspec": {
   "display_name": "Python 3",
   "language": "python",
   "name": "python3"
  },
  "language_info": {
   "codemirror_mode": {
    "name": "ipython",
    "version": 3
   },
   "file_extension": ".py",
   "mimetype": "text/x-python",
   "name": "python",
   "nbconvert_exporter": "python",
   "pygments_lexer": "ipython3",
   "version": "3.8.8"
  },
  "toc": {
   "base_numbering": 1,
   "nav_menu": {},
   "number_sections": true,
   "sideBar": true,
   "skip_h1_title": false,
   "title_cell": "Table of Contents",
   "title_sidebar": "Contents",
   "toc_cell": false,
   "toc_position": {},
   "toc_section_display": true,
   "toc_window_display": false
  },
  "varInspector": {
   "cols": {
    "lenName": 16,
    "lenType": 16,
    "lenVar": 40
   },
   "kernels_config": {
    "python": {
     "delete_cmd_postfix": "",
     "delete_cmd_prefix": "del ",
     "library": "var_list.py",
     "varRefreshCmd": "print(var_dic_list())"
    },
    "r": {
     "delete_cmd_postfix": ") ",
     "delete_cmd_prefix": "rm(",
     "library": "var_list.r",
     "varRefreshCmd": "cat(var_dic_list()) "
    }
   },
   "types_to_exclude": [
    "module",
    "function",
    "builtin_function_or_method",
    "instance",
    "_Feature"
   ],
   "window_display": false
  }
 },
 "nbformat": 4,
 "nbformat_minor": 5
}
